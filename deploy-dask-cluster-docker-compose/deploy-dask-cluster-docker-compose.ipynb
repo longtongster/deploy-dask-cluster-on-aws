{
 "cells": [
  {
   "cell_type": "markdown",
   "id": "5007b97a-87cc-49ba-bcd4-b64201b00c5f",
   "metadata": {},
   "source": [
    "# Part I - docker compose\n",
    "\n",
    "Part I is about using docker compose to start multiple docker containers. Using docker compose you can also put all commands you normally need to run a container in a file. It can be submitted to version control system."
   ]
  },
  {
   "cell_type": "code",
   "execution_count": null,
   "id": "6c08c94a-6dad-44e3-915f-1ad1796a6343",
   "metadata": {},
   "outputs": [],
   "source": [
    "import os\n",
    "print(os.listdir())"
   ]
  },
  {
   "cell_type": "code",
   "execution_count": null,
   "id": "2cceb831-009f-4681-982e-bb0afb47b64f",
   "metadata": {},
   "outputs": [],
   "source": [
    "!tree"
   ]
  },
  {
   "cell_type": "markdown",
   "id": "1b730c65-94ff-4872-8ca5-255617392608",
   "metadata": {},
   "source": [
    "#### Already done\n",
    "\n",
    "In notebook xyz a Dockerfile and requirements were created. These are repeated such that this directory is self contained. This is stored in the `docker` directory."
   ]
  },
  {
   "cell_type": "code",
   "execution_count": null,
   "id": "d9ff2dc2-1d98-4883-b8c9-3051016a35a2",
   "metadata": {},
   "outputs": [],
   "source": [
    "print(os.listdir('docker'))"
   ]
  },
  {
   "cell_type": "code",
   "execution_count": null,
   "id": "11a3e498-e17e-4609-9ede-3e10e67de64d",
   "metadata": {},
   "outputs": [],
   "source": [
    "%%writefile ./docker/Dockerfile\n",
    "FROM python:3.10.12-slim\n",
    "\n",
    "# create app directory and move in the directory\n",
    "WORKDIR app\n",
    "\n",
    "# copy the requirements.txt in the app directory in the container\n",
    "COPY ./requirements.txt .\n",
    "\n",
    "# install and upgrade pip\n",
    "RUN pip3 install --upgrade pip\n",
    "\n",
    "# install the dependencies in the requirement.txt\n",
    "RUN pip3 install -r requirements.txt\n",
    "\n",
    "# expose all these port\n",
    "EXPOSE 8786 8787 30000-65535\n",
    "\n",
    "# execute `dask scheduler --host 0.0.0.0` in container when \n",
    "# we run the container\n",
    "CMD [\"dask\", \"scheduler\", \"--host\", \"0.0.0.0\"]\n",
    "#CMD [\"dask\", \"scheduler\"]"
   ]
  },
  {
   "cell_type": "markdown",
   "id": "3446ff13-85b9-4885-a3e7-f94987b9e403",
   "metadata": {},
   "source": [
    "Below we give the requirements.txt that contains all the dependencies we need for running our code"
   ]
  },
  {
   "cell_type": "code",
   "execution_count": null,
   "id": "92e9c002-9408-46b9-86b5-e8cbf6cd306f",
   "metadata": {},
   "outputs": [],
   "source": [
    "%%writefile ./docker/requirements.txt\n",
    "pandas==2.2.3\n",
    "numpy==2.1.0\n",
    "dask[complete]==2024.9.1\n",
    "dask-cloudprovider==2024.9.0\n",
    "s3fs==2024.9.0\n",
    "dask-expr==1.1.15\n",
    "awscli\n",
    "jupyter\n"
   ]
  },
  {
   "cell_type": "code",
   "execution_count": null,
   "id": "27cf5399-3e4d-47d4-894a-dc238280d654",
   "metadata": {},
   "outputs": [],
   "source": [
    "os.listdir('docker')"
   ]
  },
  {
   "cell_type": "markdown",
   "id": "d17507be-b72f-454d-a41f-d99d6334a996",
   "metadata": {},
   "source": [
    "Below we use docker compose to create a two services. Here we `build` the image two times. Once the image is build for the first time it will build very quickly afterwards since all layers are cached. You can also refer to an image (that would be neater)\n",
    "\n",
    "**remark** - please note that in order to create a daskworker we override the start command from the Dockerfile using `command`. Containers in a docker compose stack share the same network and call each other using the service name. Docker will resolve the DNS to an internal IP."
   ]
  },
  {
   "cell_type": "code",
   "execution_count": null,
   "id": "0dbddb83-b3cf-4ebd-b240-e39dd4858561",
   "metadata": {},
   "outputs": [],
   "source": [
    "%%writefile docker-compose.yml\n",
    "services:\n",
    "  dask-scheduler:\n",
    "    restart: always\n",
    "    #context: ./\n",
    "    build: ./docker/\n",
    "    container_name: dask-scheduler-container\n",
    "    ports:\n",
    "      - 8786-8787:8786-8787\n",
    "  dask-worker:\n",
    "    restart: always\n",
    "    #context: ./\n",
    "    build: ./docker\n",
    "    #container_name: dask-worker-1\n",
    "    command: \"dask worker tcp://dask-scheduler:8786\"\n",
    "    deploy:\n",
    "      mode: replicated\n",
    "      replicas: 2"
   ]
  },
  {
   "cell_type": "markdown",
   "id": "ca912651-1cfd-4829-be99-4833bab02e1c",
   "metadata": {},
   "source": [
    "we can first build the images that our dockerfile is referencing."
   ]
  },
  {
   "cell_type": "code",
   "execution_count": null,
   "id": "b976051f-8835-4d1d-b321-4b9ea7a21c40",
   "metadata": {},
   "outputs": [],
   "source": [
    "!docker compose build"
   ]
  },
  {
   "cell_type": "markdown",
   "id": "da5d11f3-bfa1-4089-9889-c099d713cb86",
   "metadata": {},
   "source": [
    "now there will be two images related to this docker compose deployment. These will have the current container name plus the service name."
   ]
  },
  {
   "cell_type": "code",
   "execution_count": null,
   "id": "575b8328-f76c-4466-b3de-c8b248744366",
   "metadata": {},
   "outputs": [],
   "source": [
    "#!docker images"
   ]
  },
  {
   "cell_type": "markdown",
   "id": "afcb8f81-e9e8-413a-ab12-120c9e7dabcb",
   "metadata": {},
   "source": [
    "now we can start the services"
   ]
  },
  {
   "cell_type": "code",
   "execution_count": null,
   "id": "280fafbf-9c7b-4af9-9b38-fd07f7d5960f",
   "metadata": {},
   "outputs": [],
   "source": [
    "!docker-compose up -d"
   ]
  },
  {
   "cell_type": "code",
   "execution_count": null,
   "id": "02fd4f26-c13d-4f6e-9173-6a5f238097e7",
   "metadata": {},
   "outputs": [],
   "source": [
    "!docker ps"
   ]
  },
  {
   "cell_type": "code",
   "execution_count": null,
   "id": "27640c06-cbd2-4adf-ba31-1a02dc0cbeb4",
   "metadata": {},
   "outputs": [],
   "source": [
    "!docker logs dask-scheduler-container"
   ]
  },
  {
   "cell_type": "code",
   "execution_count": null,
   "id": "72fdddf9-c2e4-4b9a-9028-2cb3c90eec43",
   "metadata": {},
   "outputs": [],
   "source": [
    "!docker logs deploy-dask-cluster-docker-compose-dask-worker-1"
   ]
  },
  {
   "cell_type": "code",
   "execution_count": null,
   "id": "7157aa2e-1567-48b1-ac57-3464ecb7317d",
   "metadata": {},
   "outputs": [],
   "source": [
    "!docker logs deploy-dask-cluster-docker-compose-dask-worker-2"
   ]
  },
  {
   "cell_type": "code",
   "execution_count": null,
   "id": "4ee6faaf-bb9a-427c-b9aa-136db2f35b03",
   "metadata": {},
   "outputs": [],
   "source": [
    "from dask.distributed import Client"
   ]
  },
  {
   "cell_type": "code",
   "execution_count": null,
   "id": "d0621bd5-4ff7-49b4-af30-e2a1f5400d80",
   "metadata": {},
   "outputs": [],
   "source": [
    "client = Client(address=\"tcp://localhost:8786\")"
   ]
  },
  {
   "cell_type": "code",
   "execution_count": null,
   "id": "cc17e06e-c390-4d08-9366-eecbb381d74f",
   "metadata": {},
   "outputs": [],
   "source": [
    "client"
   ]
  },
  {
   "cell_type": "markdown",
   "id": "9f918d6d-a691-4ccc-bfe1-1b82250ec26d",
   "metadata": {},
   "source": [
    "click the dashboard link  `http://localhost:8787/status` to see the dashboard"
   ]
  },
  {
   "cell_type": "markdown",
   "id": "69651700-d865-48cd-9f9b-0364b664972e",
   "metadata": {},
   "source": [
    "docker compose created an internal bridge network. The internal IP from the scheduler above can be found in the docker network that was created."
   ]
  },
  {
   "cell_type": "code",
   "execution_count": null,
   "id": "6e88b3fd-4963-4f74-8a72-35f2af52fab4",
   "metadata": {},
   "outputs": [],
   "source": [
    "!docker network ls"
   ]
  },
  {
   "cell_type": "markdown",
   "id": "2111d1ad-66d9-48d1-9380-4ce0896ad070",
   "metadata": {},
   "source": [
    "inspect the network to see the internal IP adresses and compare to above"
   ]
  },
  {
   "cell_type": "code",
   "execution_count": null,
   "id": "e43d8673-0dbf-4775-aec6-a39b7866519d",
   "metadata": {},
   "outputs": [],
   "source": [
    "import dask.array as da\n",
    "\n",
    "xd = da.random.normal(10, 0.1, size=(30_000, 30_000), chunks=(3000, 3000))\n",
    "yd = xd.mean(axis=0)\n",
    "yd.compute()"
   ]
  },
  {
   "cell_type": "code",
   "execution_count": null,
   "id": "5e1214e7-a0c5-4cd3-9985-e81a987b7b0f",
   "metadata": {},
   "outputs": [],
   "source": [
    "#!docker network inspect deploy-dask-cluster-docker-compose_default"
   ]
  },
  {
   "cell_type": "markdown",
   "id": "f217fafe-2f84-4ebc-91d8-8d4eac4de8c6",
   "metadata": {},
   "source": [
    "clean up the resources"
   ]
  },
  {
   "cell_type": "code",
   "execution_count": null,
   "id": "6ebfefdc-5783-4243-a4eb-dd0de831a14d",
   "metadata": {},
   "outputs": [],
   "source": [
    "client.close()"
   ]
  },
  {
   "cell_type": "code",
   "execution_count": null,
   "id": "f01c4fba-214d-4c18-b566-4a8b878fc84b",
   "metadata": {},
   "outputs": [],
   "source": [
    "!docker compose down"
   ]
  },
  {
   "cell_type": "markdown",
   "id": "e49c59ee-0c2e-4173-80fe-18684be29b52",
   "metadata": {},
   "source": [
    "# Part II - Kubernetes\n",
    "\n",
    "Allows deployment of different containers on different computers. The steps taken are from docker course. in kubernetes the smalles unit is a pod a pod can contain one or more containers. The computers in the cluster are called nodes. The communication between nodes is arranged by a master node (control pane). There are basically two steps for working with kubernetes: 1) creation of the cluster (e.g. using eksclt) and 2) kubectl to connect and manage deployments on the cluster remotely.\n",
    "\n",
    "other links (to check):\n",
    "\n",
    "https://www.youtube.com/watch?v=p6xDCz00TxU\n",
    "\n",
    "https://www.dabbleofdevops.com/blog/deploy-and-scale-your-dask-cluster-with-kubernetes"
   ]
  },
  {
   "cell_type": "markdown",
   "id": "f4c585ab-f827-4cce-a6f6-31286bf3386d",
   "metadata": {},
   "source": [
    "Let's push the `dask-cluster-image` to docker hub. First tag the image with my dockerhub username."
   ]
  },
  {
   "cell_type": "code",
   "execution_count": null,
   "id": "9858bf80-124e-403b-8933-64d23f2c8d8e",
   "metadata": {},
   "outputs": [],
   "source": [
    "!docker tag dask-cluster-image longtong/dask-cluster-image"
   ]
  },
  {
   "cell_type": "code",
   "execution_count": null,
   "id": "b1e92423-773a-4295-8356-090d80f748db",
   "metadata": {},
   "outputs": [],
   "source": [
    "!docker push longtong/dask-cluster-image"
   ]
  },
  {
   "cell_type": "markdown",
   "id": "f51ddb37-063e-48b3-a5ac-277aeb477fe8",
   "metadata": {},
   "source": [
    "## 1.1 kubernetes basics\n",
    "\n",
    "start a k8s minikube cluster using "
   ]
  },
  {
   "cell_type": "code",
   "execution_count": null,
   "id": "ce96b677-6cbc-4316-acdf-cced5fe58313",
   "metadata": {},
   "outputs": [],
   "source": [
    "!minikube start"
   ]
  },
  {
   "cell_type": "markdown",
   "id": "44430324-e025-4265-912b-bcd0b4a5c3d0",
   "metadata": {},
   "source": [
    "**remark** - I get a lot of warnings. I seems to work though but not always with the commands from course.\n",
    "\n",
    "on windows. After this check the status of the cluster by enterin"
   ]
  },
  {
   "cell_type": "code",
   "execution_count": null,
   "id": "050b5d81-98fd-4b1b-8742-2ad2e27ef91c",
   "metadata": {},
   "outputs": [],
   "source": [
    "!minikube status"
   ]
  },
  {
   "cell_type": "code",
   "execution_count": null,
   "id": "ef3ea88e-c35e-45f4-a360-029c4d5272b9",
   "metadata": {},
   "outputs": [],
   "source": [
    "!minikube ip"
   ]
  },
  {
   "cell_type": "markdown",
   "id": "bb255445-1087-4060-a517-92ffc426922c",
   "metadata": {},
   "source": [
    "to get the ip of the cluster. In order to login into the container I had to use \n",
    "\n",
    "`minikube ssh`\n",
    "\n",
    "which is different from the course.\n",
    "\n",
    "To get info on the cluster type"
   ]
  },
  {
   "cell_type": "code",
   "execution_count": null,
   "id": "dca43948-f200-4aba-a5da-3fc56ec8666c",
   "metadata": {},
   "outputs": [],
   "source": [
    "!kubectl cluster-info"
   ]
  },
  {
   "cell_type": "markdown",
   "id": "20fe2bce-b3c0-47fa-93ab-fc6b785ec408",
   "metadata": {},
   "source": [
    "to get the nodes"
   ]
  },
  {
   "cell_type": "code",
   "execution_count": null,
   "id": "36bf6515-4f5a-41ba-98ea-f15d7a4f92c4",
   "metadata": {},
   "outputs": [],
   "source": [
    "!kubectl get nodes"
   ]
  },
  {
   "cell_type": "code",
   "execution_count": null,
   "id": "c6ec5115-6935-4cf9-9292-dd12ef7edf04",
   "metadata": {},
   "outputs": [],
   "source": [
    "!kubectl get pods --namespace=kub-system"
   ]
  },
  {
   "cell_type": "markdown",
   "id": "3fcd91b5-ec89-4152-ae75-657cbb37b69a",
   "metadata": {},
   "source": [
    "The `namespace` argument is not mandatory"
   ]
  },
  {
   "cell_type": "code",
   "execution_count": null,
   "id": "c3d2e581-9420-472b-a662-bea5c43dbf00",
   "metadata": {},
   "outputs": [],
   "source": [
    "!kubectl get namespaces"
   ]
  },
  {
   "cell_type": "markdown",
   "id": "976d008c-140f-4d95-8a21-1fe853e41508",
   "metadata": {},
   "source": [
    "#### Create a pod"
   ]
  },
  {
   "cell_type": "code",
   "execution_count": null,
   "id": "849ff91b-1e36-4c07-a565-4fdc59120a8f",
   "metadata": {},
   "outputs": [],
   "source": [
    "!kubectl run dask --image=longtong/dask-cluster-image"
   ]
  },
  {
   "cell_type": "markdown",
   "id": "be92a342-a804-41ce-a4dd-f425bd3308de",
   "metadata": {},
   "source": [
    "to get information on the pod type"
   ]
  },
  {
   "cell_type": "code",
   "execution_count": null,
   "id": "f471aa24-47d2-4c20-a7f7-583fee1bf5a3",
   "metadata": {},
   "outputs": [],
   "source": [
    "!kubectl describe pod dask"
   ]
  },
  {
   "cell_type": "markdown",
   "id": "d09640a7-a82d-4205-82ac-f8f821b1d3de",
   "metadata": {},
   "source": [
    "The pod runs inside the cluster but is not available outside of the cluster. It only has an internal IP adress. To connect outside of the cluster **services** are needed. \n",
    "\n",
    "You can log into the cluster (see above) and check containers `docker ps | grep dask` and look at the container logs (or exec into them)."
   ]
  },
  {
   "cell_type": "code",
   "execution_count": null,
   "id": "01c0278e-7553-4435-b41c-ac3f1ab3040f",
   "metadata": {},
   "outputs": [],
   "source": [
    "!kubectl get pods -o wide"
   ]
  },
  {
   "cell_type": "markdown",
   "id": "62928020-ef4f-47b1-8ada-d03b37d6daef",
   "metadata": {},
   "source": [
    "delete the pod"
   ]
  },
  {
   "cell_type": "code",
   "execution_count": null,
   "id": "eef5d50e-258c-4915-a3f7-9d7ea2b7c721",
   "metadata": {},
   "outputs": [],
   "source": [
    "!kubectl delete pod dask"
   ]
  },
  {
   "cell_type": "markdown",
   "id": "4293dfcc-1295-4b2a-ae7c-9a5b807e3ae7",
   "metadata": {},
   "source": [
    "#### Create deployment\n",
    "\n",
    "To create multiple pods and manage configuraton (scale) the best way to do this is with deployments. (use git bash and use `alias k='kubectl'`"
   ]
  },
  {
   "cell_type": "code",
   "execution_count": null,
   "id": "cdff654d-ae56-484d-84dd-ee3f3c084436",
   "metadata": {},
   "outputs": [],
   "source": [
    "!kubectl create deployment dask --image=longtong/dask-cluster-image"
   ]
  },
  {
   "cell_type": "markdown",
   "id": "07db394e-2a99-468a-96e1-74044139827f",
   "metadata": {},
   "source": [
    "get the deployments"
   ]
  },
  {
   "cell_type": "code",
   "execution_count": null,
   "id": "269e362e-aea1-42f7-b654-f00ed373f90b",
   "metadata": {},
   "outputs": [],
   "source": [
    "!kubectl get deploy"
   ]
  },
  {
   "cell_type": "markdown",
   "id": "4544c2da-2238-4891-a31f-9b8d81f52dc8",
   "metadata": {},
   "source": [
    "describe deployment"
   ]
  },
  {
   "cell_type": "code",
   "execution_count": null,
   "id": "1b2decbd-0691-4814-95c2-4b74901e84b2",
   "metadata": {},
   "outputs": [],
   "source": [
    "!kubectl describe deployment dask"
   ]
  },
  {
   "cell_type": "markdown",
   "id": "3f1fe734-5fa1-4edd-b89d-9d7e6c10d61d",
   "metadata": {},
   "source": [
    "ReplicaSet manages all pods in your deployment. \n",
    "\n",
    "To increase the a higher number of pods"
   ]
  },
  {
   "cell_type": "code",
   "execution_count": null,
   "id": "e819b955-dc92-4842-9297-e8deb44cbfc1",
   "metadata": {},
   "outputs": [],
   "source": [
    "!kubectl scale deployment dask --replicas=3"
   ]
  },
  {
   "cell_type": "code",
   "execution_count": null,
   "id": "5627acd2-bc3c-4db3-afaf-8aa9e42c01ba",
   "metadata": {},
   "outputs": [],
   "source": [
    "!kubectl get pods -o wide"
   ]
  },
  {
   "cell_type": "markdown",
   "id": "5c3a5e6e-2574-479e-9811-851d898fc0cd",
   "metadata": {},
   "source": [
    "#### Services\n",
    "\n",
    "Services are required if you want to connect to deployment via specific IP adresses. There different types services. ClusterIP is single IP adress for single deployment. It is also possible to export port such that pods can be reached from outside the cluster.\n",
    "\n",
    "to expose a deployment (e.g. database) to other deployments inside the cluster (**not external**) use: "
   ]
  },
  {
   "cell_type": "code",
   "execution_count": null,
   "id": "b386c61c-7793-4441-b5e5-e3ed0a3ec0cf",
   "metadata": {},
   "outputs": [],
   "source": [
    "!kubectl expose deployment dask --port=8787 --target-port=8787"
   ]
  },
  {
   "cell_type": "markdown",
   "id": "ef89f723-cf4c-490e-ae85-e5f27542e857",
   "metadata": {},
   "source": [
    "where `port` refers to the port on the local machine and `target-port` refers to the port inside the containder. To see the services type"
   ]
  },
  {
   "cell_type": "markdown",
   "id": "f6aee85f-2e66-438f-b7aa-43c09ad05eaa",
   "metadata": {},
   "source": [
    "`k get services` or"
   ]
  },
  {
   "cell_type": "code",
   "execution_count": null,
   "id": "0a234ebc-c6a0-4d06-900f-c5e45f9732c6",
   "metadata": {},
   "outputs": [],
   "source": [
    "!kubectl get svc"
   ]
  },
  {
   "cell_type": "markdown",
   "id": "b74b5fc0-3597-4324-b3e6-4b57f2954715",
   "metadata": {},
   "source": [
    "get details about the service"
   ]
  },
  {
   "cell_type": "code",
   "execution_count": null,
   "id": "fbee3c31-af60-4381-8517-fb644ac906ba",
   "metadata": {},
   "outputs": [],
   "source": [
    "!kubectl describe service dask"
   ]
  },
  {
   "cell_type": "markdown",
   "id": "af912f40-3482-4b32-8434-ff4393e10099",
   "metadata": {},
   "source": [
    "delete this service"
   ]
  },
  {
   "cell_type": "code",
   "execution_count": null,
   "id": "63620002-be9d-4d80-a242-18050745ca2f",
   "metadata": {},
   "outputs": [],
   "source": [
    "!kubectl delete svc dask"
   ]
  },
  {
   "cell_type": "markdown",
   "id": "837d0d3a-fcd7-42a1-9ead-db20ea7d0120",
   "metadata": {},
   "source": [
    "create a different type of deployment"
   ]
  },
  {
   "cell_type": "code",
   "execution_count": null,
   "id": "da580dcf-354f-43aa-b9a8-0f2f4a8c2d1e",
   "metadata": {},
   "outputs": [],
   "source": [
    "!kubectl expose deployment dask --type=NodePort --port=8786 --port=8787"
   ]
  },
  {
   "cell_type": "code",
   "execution_count": null,
   "id": "5a5a113c-4bb5-424b-b267-433083cb14fa",
   "metadata": {},
   "outputs": [],
   "source": [
    "!kubectl get svc"
   ]
  },
  {
   "cell_type": "markdown",
   "id": "a219b2a1-e6f9-4109-87b2-a17856505f58",
   "metadata": {},
   "source": [
    "after this command the service can be accessed (not in my pc) via te `<minikube ip>:32225` via the webbrowser. On my machine only he following command works\n",
    "\n",
    "`minikube service dask`\n",
    "\n",
    "now create a LoadBalancer service\n",
    "\n",
    "`k expose deployment dask --type=LoadBalancer --port=3000`\n"
   ]
  },
  {
   "cell_type": "markdown",
   "id": "11c72d05-64d8-4a99-a489-1216513c4ef7",
   "metadata": {},
   "source": [
    "you can expose more ports in a service. I am able to connect using `minikube service dask` it seems to have issues and give alternative ports."
   ]
  },
  {
   "cell_type": "code",
   "execution_count": null,
   "id": "5be9622f-cd1c-4dc8-9875-10e0e806cd9b",
   "metadata": {},
   "outputs": [],
   "source": [
    "from dask.distributed import Client"
   ]
  },
  {
   "cell_type": "code",
   "execution_count": null,
   "id": "a5120582-4bfd-4dc9-ad30-76514a6e2d12",
   "metadata": {},
   "outputs": [],
   "source": [
    "client = Client(address='tcp://127.0.0.1:58843')\n",
    "client"
   ]
  },
  {
   "cell_type": "code",
   "execution_count": null,
   "id": "642fb494-ffb9-4d17-b1d5-959ed73ed06c",
   "metadata": {},
   "outputs": [],
   "source": [
    "client.close()"
   ]
  },
  {
   "cell_type": "markdown",
   "id": "df62a057-c83f-4e9e-a690-765d420bafb2",
   "metadata": {},
   "source": [
    "#### StrategyType"
   ]
  },
  {
   "cell_type": "markdown",
   "id": "1c0518fe-c1db-4238-9d13-f7f57d1fd9d8",
   "metadata": {},
   "source": [
    "Change the image used in the deployment"
   ]
  },
  {
   "cell_type": "code",
   "execution_count": null,
   "id": "7b7e7c8f-c6bd-4c7f-9848-43196f75068d",
   "metadata": {},
   "outputs": [],
   "source": [
    "!kubectl set image deployment dask dask-cluster-image=longtong/k8s-web-hello:2.0.0"
   ]
  },
  {
   "cell_type": "markdown",
   "id": "d730522a-0013-43fe-b8f6-076816ac4f34",
   "metadata": {},
   "source": [
    "the argument `dask-cluster-image=longtong/k8s-web-hello:2.0.0` tell k8s to replace the image used for the deployment  by a new one."
   ]
  },
  {
   "cell_type": "code",
   "execution_count": null,
   "id": "377b55b4-5b99-437d-b637-675865258b83",
   "metadata": {},
   "outputs": [],
   "source": [
    "!kubectl rollout status deploy dask"
   ]
  },
  {
   "cell_type": "code",
   "execution_count": null,
   "id": "55452db0-95fe-4176-98e9-f7b03d244f2f",
   "metadata": {},
   "outputs": [],
   "source": [
    "!kubectl get pods"
   ]
  },
  {
   "cell_type": "code",
   "execution_count": null,
   "id": "da2da229-8925-48f9-8eb3-a10edfd85aaf",
   "metadata": {},
   "outputs": [],
   "source": [
    "!kubectl get svc"
   ]
  },
  {
   "cell_type": "raw",
   "id": "0e7442ed-8ded-4083-9f72-c0e1457df2f3",
   "metadata": {},
   "source": [
    "!minikube dashboard"
   ]
  },
  {
   "cell_type": "markdown",
   "id": "b67efdbb-cd03-4671-b547-1a30835a8ba0",
   "metadata": {},
   "source": [
    "clean up resources"
   ]
  },
  {
   "cell_type": "code",
   "execution_count": 89,
   "id": "3f03c0ab-2803-4d8d-aac3-12c88ea27a1b",
   "metadata": {},
   "outputs": [
    {
     "name": "stdout",
     "output_type": "stream",
     "text": [
      "pod \"dask-scheduler-f94b8654d-dn468\" deleted\n",
      "pod \"dask-worker-c6cdff5f6-69rxd\" deleted\n",
      "pod \"dask-worker-c6cdff5f6-fslct\" deleted\n",
      "pod \"dask-worker-c6cdff5f6-w22tv\" deleted\n",
      "service \"dask-scheduler\" deleted\n",
      "service \"kubernetes\" deleted\n",
      "deployment.apps \"dask-scheduler\" deleted\n",
      "deployment.apps \"dask-worker\" deleted\n"
     ]
    }
   ],
   "source": [
    "!kubectl delete all --all"
   ]
  },
  {
   "cell_type": "code",
   "execution_count": 90,
   "id": "b11abc33-a904-469a-a70a-50ad0afa4d73",
   "metadata": {},
   "outputs": [
    {
     "name": "stderr",
     "output_type": "stream",
     "text": [
      "No resources found in default namespace.\n"
     ]
    },
    {
     "name": "stdout",
     "output_type": "stream",
     "text": [
      "NAME         TYPE        CLUSTER-IP   EXTERNAL-IP   PORT(S)   AGE\n",
      "kubernetes   ClusterIP   10.96.0.1    <none>        443/TCP   17s\n",
      "NAME                             READY   STATUS        RESTARTS   AGE\n",
      "dask-scheduler-f94b8654d-cv59x   0/1     Completed     0          19s\n",
      "dask-worker-c6cdff5f6-6vq86      0/1     Error         0          19s\n",
      "dask-worker-c6cdff5f6-8b965      0/1     Terminating   0          19s\n",
      "dask-worker-c6cdff5f6-nm76m      0/1     Terminating   0          19s\n"
     ]
    }
   ],
   "source": [
    "!kubectl get deploy\n",
    "!kubectl get svc\n",
    "!kubectl get pods"
   ]
  },
  {
   "cell_type": "markdown",
   "id": "d1b0c314-87ba-41d0-be21-495c5ba4295b",
   "metadata": {},
   "source": [
    "### 1.2 Deployments using yaml files\n",
    "\n",
    "More information on different fields of the yaml files can be found here:\n",
    "- https://kubernetes.io/docs/reference/kubernetes-api/\n",
    "\n"
   ]
  },
  {
   "cell_type": "markdown",
   "id": "10e43c33-eaa3-4c60-ad64-67db77727182",
   "metadata": {},
   "source": [
    "#### ChatGPT"
   ]
  },
  {
   "cell_type": "code",
   "execution_count": 91,
   "id": "306c2c58-9d50-47ba-b60a-a497df4740e6",
   "metadata": {},
   "outputs": [
    {
     "name": "stdout",
     "output_type": "stream",
     "text": [
      "Overwriting dask-scheduler-deployment.yaml\n"
     ]
    }
   ],
   "source": [
    "%%writefile dask-scheduler-deployment.yaml\n",
    "apiVersion: apps/v1\n",
    "kind: Deployment\n",
    "metadata:\n",
    "  name: dask-scheduler\n",
    "spec:\n",
    "  replicas: 1\n",
    "  selector:\n",
    "    matchLabels:\n",
    "      app: dask-scheduler\n",
    "  template:\n",
    "    metadata:\n",
    "      labels:\n",
    "        app: dask-scheduler\n",
    "    spec:\n",
    "      containers:\n",
    "      - name: dask-scheduler\n",
    "        image: longtong/dask-cluster-image #daskdev/dask:latest\n",
    "        args: [\"dask-scheduler\"]\n",
    "        ports:\n",
    "        - containerPort: 8786\n",
    "        - containerPort: 8787\n",
    "---\n",
    "apiVersion: v1\n",
    "kind: Service\n",
    "metadata:\n",
    "  name: dask-scheduler\n",
    "spec:\n",
    "  type: NodePort\n",
    "  selector:\n",
    "    app: dask-scheduler\n",
    "  ports:\n",
    "  - name: scheduler\n",
    "    port: 8786\n",
    "    targetPort: 8786\n",
    "    nodePort: 31876  # Within 30000-65535 range\n",
    "  - name: dashboard\n",
    "    port: 8787\n",
    "    targetPort: 8787\n",
    "    nodePort: 31877  # Within 30000-65535 range"
   ]
  },
  {
   "cell_type": "code",
   "execution_count": 92,
   "id": "3b40f16c-9d7e-4bb2-9107-5cb146e7e1dd",
   "metadata": {},
   "outputs": [
    {
     "name": "stdout",
     "output_type": "stream",
     "text": [
      "deployment.apps/dask-scheduler created\n",
      "service/dask-scheduler created\n"
     ]
    }
   ],
   "source": [
    "!kubectl apply -f dask-scheduler-deployment.yaml"
   ]
  },
  {
   "cell_type": "code",
   "execution_count": 94,
   "id": "17caf3a7-7d2d-4e97-9ead-9ae0fa755154",
   "metadata": {},
   "outputs": [
    {
     "name": "stdout",
     "output_type": "stream",
     "text": [
      "NAME             READY   UP-TO-DATE   AVAILABLE   AGE\n",
      "dask-scheduler   1/1     1            1           6s\n",
      "NAME                             READY   STATUS    RESTARTS   AGE   IP            NODE       NOMINATED NODE   READINESS GATES\n",
      "dask-scheduler-f94b8654d-k5lxj   1/1     Running   0          6s    10.244.0.34   minikube   <none>           <none>\n",
      "NAME             TYPE        CLUSTER-IP       EXTERNAL-IP   PORT(S)                         AGE\n",
      "dask-scheduler   NodePort    10.110.219.124   <none>        8786:31876/TCP,8787:31877/TCP   7s\n",
      "kubernetes       ClusterIP   10.96.0.1        <none>        443/TCP                         83s\n"
     ]
    }
   ],
   "source": [
    "!kubectl get deploy\n",
    "!kubectl get pods -o wide\n",
    "!kubectl get svc"
   ]
  },
  {
   "cell_type": "code",
   "execution_count": 95,
   "id": "2d365ea3-3403-464b-9904-16be666d2df7",
   "metadata": {},
   "outputs": [
    {
     "name": "stdout",
     "output_type": "stream",
     "text": [
      "Overwriting dask-worker-deployment.yaml\n"
     ]
    }
   ],
   "source": [
    "%%writefile dask-worker-deployment.yaml\n",
    "apiVersion: apps/v1\n",
    "kind: Deployment\n",
    "metadata:\n",
    "  name: dask-worker\n",
    "spec:\n",
    "  replicas: 3  # Number of workers\n",
    "  selector:\n",
    "    matchLabels:\n",
    "      app: dask-worker\n",
    "  template:\n",
    "    metadata:\n",
    "      labels:\n",
    "        app: dask-worker\n",
    "    spec:\n",
    "      containers:\n",
    "      - name: dask-worker\n",
    "        image: longtong/dask-cluster-image #daskdev/dask:latest\n",
    "        args: [\"dask-worker\", \"dask-scheduler.default.svc.cluster.local:8786\"]\n",
    "        #env:\n",
    "        #- name: DASK_DISTRIBUTED__COMM__DEFAULT_PORT\n",
    "        #  value: \"30000\"  # Set the minimum port range for worker communications\n",
    "        #- name: DASK_DISTRIBUTED__COMM__RETRY_PORTS\n",
    "        #  value: \"30000:65535\"  # Set the range for communication retries"
   ]
  },
  {
   "cell_type": "code",
   "execution_count": 98,
   "id": "9e92f31b-125d-4d14-9556-fb0ad7a10e84",
   "metadata": {},
   "outputs": [
    {
     "name": "stdout",
     "output_type": "stream",
     "text": [
      "deployment.apps/dask-worker unchanged\n"
     ]
    }
   ],
   "source": [
    "!kubectl apply -f dask-worker-deployment.yaml"
   ]
  },
  {
   "cell_type": "code",
   "execution_count": 99,
   "id": "9128f625-a370-427a-ac52-93fb534b682f",
   "metadata": {},
   "outputs": [
    {
     "name": "stdout",
     "output_type": "stream",
     "text": [
      "NAME             READY   UP-TO-DATE   AVAILABLE   AGE\n",
      "dask-scheduler   1/1     1            1           83s\n",
      "dask-worker      3/3     3            3           54s\n",
      "NAME                             READY   STATUS    RESTARTS   AGE   IP            NODE       NOMINATED NODE   READINESS GATES\n",
      "dask-scheduler-f94b8654d-k5lxj   1/1     Running   0          84s   10.244.0.34   minikube   <none>           <none>\n",
      "dask-worker-654888cbb9-8vjdm     1/1     Running   0          55s   10.244.0.36   minikube   <none>           <none>\n",
      "dask-worker-654888cbb9-ncwxj     1/1     Running   0          55s   10.244.0.37   minikube   <none>           <none>\n",
      "dask-worker-654888cbb9-qr7nd     1/1     Running   0          55s   10.244.0.35   minikube   <none>           <none>\n",
      "NAME             TYPE        CLUSTER-IP       EXTERNAL-IP   PORT(S)                         AGE\n",
      "dask-scheduler   NodePort    10.110.219.124   <none>        8786:31876/TCP,8787:31877/TCP   84s\n",
      "kubernetes       ClusterIP   10.96.0.1        <none>        443/TCP                         2m40s\n"
     ]
    }
   ],
   "source": [
    "!kubectl get deploy\n",
    "!kubectl get pods -o wide\n",
    "!kubectl get svc"
   ]
  },
  {
   "attachments": {
    "12d8b37d-fef1-402a-a475-501cf83775f0.png": {
     "image/png": "[encoded data removed]"
    }
   },
   "cell_type": "markdown",
   "id": "0ae254bc-7d14-4313-bffe-87be63576048",
   "metadata": {},
   "source": [
    "run \n",
    "\n",
    "`minikube service dask-scheduler`\n",
    "\n",
    "to get the scheduler ports. Use these in the connection below. Make sure you change http to tcp and link use the one linked to port 8786.\n",
    "\n",
    "![image.png](attachment:12d8b37d-fef1-402a-a475-501cf83775f0.png)"
   ]
  },
  {
   "cell_type": "code",
   "execution_count": 100,
   "id": "174603b3-37ba-4d1d-b12e-d05ce933a643",
   "metadata": {},
   "outputs": [
    {
     "data": {
      "text/html": [
       "<div>\n",
       "    <div style=\"width: 24px; height: 24px; background-color: #e1e1e1; border: 3px solid #9D9D9D; border-radius: 5px; position: absolute;\"> </div>\n",
       "    <div style=\"margin-left: 48px;\">\n",
       "        <h3 style=\"margin-bottom: 0px;\">Client</h3>\n",
       "        <p style=\"color: #9D9D9D; margin-bottom: 0px;\">Client-75b58737-9c59-11ef-9fcc-8c8d28f5c58e</p>\n",
       "        <table style=\"width: 100%; text-align: left;\">\n",
       "\n",
       "        <tr>\n",
       "        \n",
       "            <td style=\"text-align: left;\"><strong>Connection method:</strong> Direct</td>\n",
       "            <td style=\"text-align: left;\"></td>\n",
       "        \n",
       "        </tr>\n",
       "\n",
       "        \n",
       "            <tr>\n",
       "                <td style=\"text-align: left;\">\n",
       "                    <strong>Dashboard: </strong> <a href=\"http://127.0.0.1:8787/status\" target=\"_blank\">http://127.0.0.1:8787/status</a>\n",
       "                </td>\n",
       "                <td style=\"text-align: left;\"></td>\n",
       "            </tr>\n",
       "        \n",
       "\n",
       "        </table>\n",
       "\n",
       "        \n",
       "\n",
       "        \n",
       "            <details>\n",
       "            <summary style=\"margin-bottom: 20px;\"><h3 style=\"display: inline;\">Scheduler Info</h3></summary>\n",
       "            <div style=\"\">\n",
       "    <div>\n",
       "        <div style=\"width: 24px; height: 24px; background-color: #FFF7E5; border: 3px solid #FF6132; border-radius: 5px; position: absolute;\"> </div>\n",
       "        <div style=\"margin-left: 48px;\">\n",
       "            <h3 style=\"margin-bottom: 0px;\">Scheduler</h3>\n",
       "            <p style=\"color: #9D9D9D; margin-bottom: 0px;\">Scheduler-5983c1aa-b94f-4d45-95f6-503fa1f93b2b</p>\n",
       "            <table style=\"width: 100%; text-align: left;\">\n",
       "                <tr>\n",
       "                    <td style=\"text-align: left;\">\n",
       "                        <strong>Comm:</strong> tcp://10.244.0.34:8786\n",
       "                    </td>\n",
       "                    <td style=\"text-align: left;\">\n",
       "                        <strong>Workers:</strong> 3\n",
       "                    </td>\n",
       "                </tr>\n",
       "                <tr>\n",
       "                    <td style=\"text-align: left;\">\n",
       "                        <strong>Dashboard:</strong> <a href=\"http://10.244.0.34:8787/status\" target=\"_blank\">http://10.244.0.34:8787/status</a>\n",
       "                    </td>\n",
       "                    <td style=\"text-align: left;\">\n",
       "                        <strong>Total threads:</strong> 36\n",
       "                    </td>\n",
       "                </tr>\n",
       "                <tr>\n",
       "                    <td style=\"text-align: left;\">\n",
       "                        <strong>Started:</strong> 3 minutes ago\n",
       "                    </td>\n",
       "                    <td style=\"text-align: left;\">\n",
       "                        <strong>Total memory:</strong> 46.61 GiB\n",
       "                    </td>\n",
       "                </tr>\n",
       "            </table>\n",
       "        </div>\n",
       "    </div>\n",
       "\n",
       "    <details style=\"margin-left: 48px;\">\n",
       "        <summary style=\"margin-bottom: 20px;\">\n",
       "            <h3 style=\"display: inline;\">Workers</h3>\n",
       "        </summary>\n",
       "\n",
       "        \n",
       "        <div style=\"margin-bottom: 20px;\">\n",
       "            <div style=\"width: 24px; height: 24px; background-color: #DBF5FF; border: 3px solid #4CC9FF; border-radius: 5px; position: absolute;\"> </div>\n",
       "            <div style=\"margin-left: 48px;\">\n",
       "            <details>\n",
       "                <summary>\n",
       "                    <h4 style=\"margin-bottom: 0px; display: inline;\">Worker: tcp://10.244.0.35:33193</h4>\n",
       "                </summary>\n",
       "                <table style=\"width: 100%; text-align: left;\">\n",
       "                    <tr>\n",
       "                        <td style=\"text-align: left;\">\n",
       "                            <strong>Comm: </strong> tcp://10.244.0.35:33193\n",
       "                        </td>\n",
       "                        <td style=\"text-align: left;\">\n",
       "                            <strong>Total threads: </strong> 12\n",
       "                        </td>\n",
       "                    </tr>\n",
       "                    <tr>\n",
       "                        <td style=\"text-align: left;\">\n",
       "                            <strong>Dashboard: </strong> <a href=\"http://10.244.0.35:38683/status\" target=\"_blank\">http://10.244.0.35:38683/status</a>\n",
       "                        </td>\n",
       "                        <td style=\"text-align: left;\">\n",
       "                            <strong>Memory: </strong> 15.54 GiB\n",
       "                        </td>\n",
       "                    </tr>\n",
       "                    <tr>\n",
       "                        <td style=\"text-align: left;\">\n",
       "                            <strong>Nanny: </strong> tcp://10.244.0.35:40093\n",
       "                        </td>\n",
       "                        <td style=\"text-align: left;\"></td>\n",
       "                    </tr>\n",
       "                    <tr>\n",
       "                        <td colspan=\"2\" style=\"text-align: left;\">\n",
       "                            <strong>Local directory: </strong> /tmp/dask-scratch-space/worker-0us9km2b\n",
       "                        </td>\n",
       "                    </tr>\n",
       "\n",
       "                    \n",
       "\n",
       "                    \n",
       "                    <tr>\n",
       "                        <td style=\"text-align: left;\">\n",
       "                            <strong>Tasks executing: </strong> \n",
       "                        </td>\n",
       "                        <td style=\"text-align: left;\">\n",
       "                            <strong>Tasks in memory: </strong> \n",
       "                        </td>\n",
       "                    </tr>\n",
       "                    <tr>\n",
       "                        <td style=\"text-align: left;\">\n",
       "                            <strong>Tasks ready: </strong> \n",
       "                        </td>\n",
       "                        <td style=\"text-align: left;\">\n",
       "                            <strong>Tasks in flight: </strong>\n",
       "                        </td>\n",
       "                    </tr>\n",
       "                    <tr>\n",
       "                        <td style=\"text-align: left;\">\n",
       "                            <strong>CPU usage:</strong> 4.0%\n",
       "                        </td>\n",
       "                        <td style=\"text-align: left;\">\n",
       "                            <strong>Last seen: </strong> Just now\n",
       "                        </td>\n",
       "                    </tr>\n",
       "                    <tr>\n",
       "                        <td style=\"text-align: left;\">\n",
       "                            <strong>Memory usage: </strong> 155.21 MiB\n",
       "                        </td>\n",
       "                        <td style=\"text-align: left;\">\n",
       "                            <strong>Spilled bytes: </strong> 0 B\n",
       "                        </td>\n",
       "                    </tr>\n",
       "                    <tr>\n",
       "                        <td style=\"text-align: left;\">\n",
       "                            <strong>Read bytes: </strong> 285.89274447337493 B\n",
       "                        </td>\n",
       "                        <td style=\"text-align: left;\">\n",
       "                            <strong>Write bytes: </strong> 1.44 kiB\n",
       "                        </td>\n",
       "                    </tr>\n",
       "                    \n",
       "\n",
       "                </table>\n",
       "            </details>\n",
       "            </div>\n",
       "        </div>\n",
       "        \n",
       "        <div style=\"margin-bottom: 20px;\">\n",
       "            <div style=\"width: 24px; height: 24px; background-color: #DBF5FF; border: 3px solid #4CC9FF; border-radius: 5px; position: absolute;\"> </div>\n",
       "            <div style=\"margin-left: 48px;\">\n",
       "            <details>\n",
       "                <summary>\n",
       "                    <h4 style=\"margin-bottom: 0px; display: inline;\">Worker: tcp://10.244.0.36:37039</h4>\n",
       "                </summary>\n",
       "                <table style=\"width: 100%; text-align: left;\">\n",
       "                    <tr>\n",
       "                        <td style=\"text-align: left;\">\n",
       "                            <strong>Comm: </strong> tcp://10.244.0.36:37039\n",
       "                        </td>\n",
       "                        <td style=\"text-align: left;\">\n",
       "                            <strong>Total threads: </strong> 12\n",
       "                        </td>\n",
       "                    </tr>\n",
       "                    <tr>\n",
       "                        <td style=\"text-align: left;\">\n",
       "                            <strong>Dashboard: </strong> <a href=\"http://10.244.0.36:32787/status\" target=\"_blank\">http://10.244.0.36:32787/status</a>\n",
       "                        </td>\n",
       "                        <td style=\"text-align: left;\">\n",
       "                            <strong>Memory: </strong> 15.54 GiB\n",
       "                        </td>\n",
       "                    </tr>\n",
       "                    <tr>\n",
       "                        <td style=\"text-align: left;\">\n",
       "                            <strong>Nanny: </strong> tcp://10.244.0.36:43095\n",
       "                        </td>\n",
       "                        <td style=\"text-align: left;\"></td>\n",
       "                    </tr>\n",
       "                    <tr>\n",
       "                        <td colspan=\"2\" style=\"text-align: left;\">\n",
       "                            <strong>Local directory: </strong> /tmp/dask-scratch-space/worker-unvj15o9\n",
       "                        </td>\n",
       "                    </tr>\n",
       "\n",
       "                    \n",
       "\n",
       "                    \n",
       "                    <tr>\n",
       "                        <td style=\"text-align: left;\">\n",
       "                            <strong>Tasks executing: </strong> \n",
       "                        </td>\n",
       "                        <td style=\"text-align: left;\">\n",
       "                            <strong>Tasks in memory: </strong> \n",
       "                        </td>\n",
       "                    </tr>\n",
       "                    <tr>\n",
       "                        <td style=\"text-align: left;\">\n",
       "                            <strong>Tasks ready: </strong> \n",
       "                        </td>\n",
       "                        <td style=\"text-align: left;\">\n",
       "                            <strong>Tasks in flight: </strong>\n",
       "                        </td>\n",
       "                    </tr>\n",
       "                    <tr>\n",
       "                        <td style=\"text-align: left;\">\n",
       "                            <strong>CPU usage:</strong> 2.0%\n",
       "                        </td>\n",
       "                        <td style=\"text-align: left;\">\n",
       "                            <strong>Last seen: </strong> Just now\n",
       "                        </td>\n",
       "                    </tr>\n",
       "                    <tr>\n",
       "                        <td style=\"text-align: left;\">\n",
       "                            <strong>Memory usage: </strong> 152.95 MiB\n",
       "                        </td>\n",
       "                        <td style=\"text-align: left;\">\n",
       "                            <strong>Spilled bytes: </strong> 0 B\n",
       "                        </td>\n",
       "                    </tr>\n",
       "                    <tr>\n",
       "                        <td style=\"text-align: left;\">\n",
       "                            <strong>Read bytes: </strong> 285.05837749451234 B\n",
       "                        </td>\n",
       "                        <td style=\"text-align: left;\">\n",
       "                            <strong>Write bytes: </strong> 1.44 kiB\n",
       "                        </td>\n",
       "                    </tr>\n",
       "                    \n",
       "\n",
       "                </table>\n",
       "            </details>\n",
       "            </div>\n",
       "        </div>\n",
       "        \n",
       "        <div style=\"margin-bottom: 20px;\">\n",
       "            <div style=\"width: 24px; height: 24px; background-color: #DBF5FF; border: 3px solid #4CC9FF; border-radius: 5px; position: absolute;\"> </div>\n",
       "            <div style=\"margin-left: 48px;\">\n",
       "            <details>\n",
       "                <summary>\n",
       "                    <h4 style=\"margin-bottom: 0px; display: inline;\">Worker: tcp://10.244.0.37:34193</h4>\n",
       "                </summary>\n",
       "                <table style=\"width: 100%; text-align: left;\">\n",
       "                    <tr>\n",
       "                        <td style=\"text-align: left;\">\n",
       "                            <strong>Comm: </strong> tcp://10.244.0.37:34193\n",
       "                        </td>\n",
       "                        <td style=\"text-align: left;\">\n",
       "                            <strong>Total threads: </strong> 12\n",
       "                        </td>\n",
       "                    </tr>\n",
       "                    <tr>\n",
       "                        <td style=\"text-align: left;\">\n",
       "                            <strong>Dashboard: </strong> <a href=\"http://10.244.0.37:45381/status\" target=\"_blank\">http://10.244.0.37:45381/status</a>\n",
       "                        </td>\n",
       "                        <td style=\"text-align: left;\">\n",
       "                            <strong>Memory: </strong> 15.54 GiB\n",
       "                        </td>\n",
       "                    </tr>\n",
       "                    <tr>\n",
       "                        <td style=\"text-align: left;\">\n",
       "                            <strong>Nanny: </strong> tcp://10.244.0.37:40435\n",
       "                        </td>\n",
       "                        <td style=\"text-align: left;\"></td>\n",
       "                    </tr>\n",
       "                    <tr>\n",
       "                        <td colspan=\"2\" style=\"text-align: left;\">\n",
       "                            <strong>Local directory: </strong> /tmp/dask-scratch-space/worker-cdq0092q\n",
       "                        </td>\n",
       "                    </tr>\n",
       "\n",
       "                    \n",
       "\n",
       "                    \n",
       "                    <tr>\n",
       "                        <td style=\"text-align: left;\">\n",
       "                            <strong>Tasks executing: </strong> \n",
       "                        </td>\n",
       "                        <td style=\"text-align: left;\">\n",
       "                            <strong>Tasks in memory: </strong> \n",
       "                        </td>\n",
       "                    </tr>\n",
       "                    <tr>\n",
       "                        <td style=\"text-align: left;\">\n",
       "                            <strong>Tasks ready: </strong> \n",
       "                        </td>\n",
       "                        <td style=\"text-align: left;\">\n",
       "                            <strong>Tasks in flight: </strong>\n",
       "                        </td>\n",
       "                    </tr>\n",
       "                    <tr>\n",
       "                        <td style=\"text-align: left;\">\n",
       "                            <strong>CPU usage:</strong> 4.0%\n",
       "                        </td>\n",
       "                        <td style=\"text-align: left;\">\n",
       "                            <strong>Last seen: </strong> Just now\n",
       "                        </td>\n",
       "                    </tr>\n",
       "                    <tr>\n",
       "                        <td style=\"text-align: left;\">\n",
       "                            <strong>Memory usage: </strong> 154.05 MiB\n",
       "                        </td>\n",
       "                        <td style=\"text-align: left;\">\n",
       "                            <strong>Spilled bytes: </strong> 0 B\n",
       "                        </td>\n",
       "                    </tr>\n",
       "                    <tr>\n",
       "                        <td style=\"text-align: left;\">\n",
       "                            <strong>Read bytes: </strong> 420.57596892732283 B\n",
       "                        </td>\n",
       "                        <td style=\"text-align: left;\">\n",
       "                            <strong>Write bytes: </strong> 1.58 kiB\n",
       "                        </td>\n",
       "                    </tr>\n",
       "                    \n",
       "\n",
       "                </table>\n",
       "            </details>\n",
       "            </div>\n",
       "        </div>\n",
       "        \n",
       "\n",
       "    </details>\n",
       "</div>\n",
       "            </details>\n",
       "        \n",
       "\n",
       "    </div>\n",
       "</div>"
      ],
      "text/plain": [
       "<Client: 'tcp://10.244.0.34:8786' processes=3 threads=36, memory=46.61 GiB>"
      ]
     },
     "execution_count": 100,
     "metadata": {},
     "output_type": "execute_result"
    },
    {
     "name": "stderr",
     "output_type": "stream",
     "text": [
      "2024-11-06 17:21:30,309 - distributed.client - ERROR - \n",
      "Traceback (most recent call last):\n",
      "  File \"C:\\Users\\sacha\\anaconda3\\envs\\dask-cluster\\lib\\site-packages\\distributed\\utils.py\", line 806, in wrapper\n",
      "    return await func(*args, **kwargs)\n",
      "  File \"C:\\Users\\sacha\\anaconda3\\envs\\dask-cluster\\lib\\site-packages\\distributed\\client.py\", line 1543, in _reconnect\n",
      "    await self._ensure_connected(timeout=timeout)\n",
      "  File \"C:\\Users\\sacha\\anaconda3\\envs\\dask-cluster\\lib\\site-packages\\distributed\\client.py\", line 1573, in _ensure_connected\n",
      "    comm = await connect(\n",
      "  File \"C:\\Users\\sacha\\anaconda3\\envs\\dask-cluster\\lib\\site-packages\\distributed\\comm\\core.py\", line 377, in connect\n",
      "    handshake = await comm.read()\n",
      "  File \"C:\\Users\\sacha\\anaconda3\\envs\\dask-cluster\\lib\\site-packages\\distributed\\comm\\tcp.py\", line 225, in read\n",
      "    frames_nosplit_nbytes_bin = await stream.read_bytes(fmt_size)\n",
      "asyncio.exceptions.CancelledError\n"
     ]
    }
   ],
   "source": [
    "from dask.distributed import Client\n",
    "client = Client(address='tcp://127.0.0.1:52620')\n",
    "client"
   ]
  },
  {
   "cell_type": "code",
   "execution_count": 103,
   "id": "17df5731-55ec-4957-9cca-89a63738b8ce",
   "metadata": {},
   "outputs": [
    {
     "data": {
      "text/html": [
       "<table>\n",
       "    <tr>\n",
       "        <td>\n",
       "            <table style=\"border-collapse: collapse;\">\n",
       "                <thead>\n",
       "                    <tr>\n",
       "                        <td> </td>\n",
       "                        <th> Array </th>\n",
       "                        <th> Chunk </th>\n",
       "                    </tr>\n",
       "                </thead>\n",
       "                <tbody>\n",
       "                    \n",
       "                    <tr>\n",
       "                        <th> Bytes </th>\n",
       "                        <td> 78.12 kiB </td>\n",
       "                        <td> 23.44 kiB </td>\n",
       "                    </tr>\n",
       "                    \n",
       "                    <tr>\n",
       "                        <th> Shape </th>\n",
       "                        <td> (10000,) </td>\n",
       "                        <td> (3000,) </td>\n",
       "                    </tr>\n",
       "                    <tr>\n",
       "                        <th> Dask graph </th>\n",
       "                        <td colspan=\"2\"> 4 chunks in 3 graph layers </td>\n",
       "                    </tr>\n",
       "                    <tr>\n",
       "                        <th> Data type </th>\n",
       "                        <td colspan=\"2\"> float64 numpy.ndarray </td>\n",
       "                    </tr>\n",
       "                </tbody>\n",
       "            </table>\n",
       "        </td>\n",
       "        <td>\n",
       "        <svg width=\"170\" height=\"75\" style=\"stroke:rgb(0,0,0);stroke-width:1\" >\n",
       "\n",
       "  <!-- Horizontal lines -->\n",
       "  <line x1=\"0\" y1=\"0\" x2=\"120\" y2=\"0\" style=\"stroke-width:2\" />\n",
       "  <line x1=\"0\" y1=\"25\" x2=\"120\" y2=\"25\" style=\"stroke-width:2\" />\n",
       "\n",
       "  <!-- Vertical lines -->\n",
       "  <line x1=\"0\" y1=\"0\" x2=\"0\" y2=\"25\" style=\"stroke-width:2\" />\n",
       "  <line x1=\"36\" y1=\"0\" x2=\"36\" y2=\"25\" />\n",
       "  <line x1=\"72\" y1=\"0\" x2=\"72\" y2=\"25\" />\n",
       "  <line x1=\"108\" y1=\"0\" x2=\"108\" y2=\"25\" />\n",
       "  <line x1=\"120\" y1=\"0\" x2=\"120\" y2=\"25\" style=\"stroke-width:2\" />\n",
       "\n",
       "  <!-- Colored Rectangle -->\n",
       "  <polygon points=\"0.0,0.0 120.0,0.0 120.0,25.412616514582485 0.0,25.412616514582485\" style=\"fill:#ECB172A0;stroke-width:0\"/>\n",
       "\n",
       "  <!-- Text -->\n",
       "  <text x=\"60.000000\" y=\"45.412617\" font-size=\"1.0rem\" font-weight=\"100\" text-anchor=\"middle\" >10000</text>\n",
       "  <text x=\"140.000000\" y=\"12.706308\" font-size=\"1.0rem\" font-weight=\"100\" text-anchor=\"middle\" transform=\"rotate(0,140.000000,12.706308)\">1</text>\n",
       "</svg>\n",
       "        </td>\n",
       "    </tr>\n",
       "</table>"
      ],
      "text/plain": [
       "dask.array<mean_agg-aggregate, shape=(10000,), dtype=float64, chunksize=(3000,), chunktype=numpy.ndarray>"
      ]
     },
     "execution_count": 103,
     "metadata": {},
     "output_type": "execute_result"
    }
   ],
   "source": [
    "import dask.array as da\n",
    "\n",
    "xd = da.random.normal(10, 0.1, size=(10_000, 10_000), chunks=(3000, 3000))\n",
    "yd = xd.mean(axis=0)\n",
    "yd"
   ]
  },
  {
   "cell_type": "code",
   "execution_count": 104,
   "id": "c6d09780-fe18-4001-8880-5c721679f089",
   "metadata": {},
   "outputs": [
    {
     "name": "stdout",
     "output_type": "stream",
     "text": [
      "CPU times: total: 0 ns\n",
      "Wall time: 3.26 s\n"
     ]
    },
    {
     "data": {
      "text/plain": [
       "array([10.00167308, 10.00008504, 10.00178389, ..., 10.00121354,\n",
       "        9.99846557,  9.99918733])"
      ]
     },
     "execution_count": 104,
     "metadata": {},
     "output_type": "execute_result"
    }
   ],
   "source": [
    "%%time\n",
    "yd.compute()"
   ]
  },
  {
   "cell_type": "markdown",
   "id": "fc24ba95-981b-43e2-a68a-5d8ebc3e6b27",
   "metadata": {},
   "source": [
    "Let's use a simple dataset I found on the internet"
   ]
  },
  {
   "cell_type": "code",
   "execution_count": 105,
   "id": "58078ab9-281c-41a3-b76b-25b300eb85f5",
   "metadata": {},
   "outputs": [
    {
     "name": "stdout",
     "output_type": "stream",
     "text": [
      "2021-04-30 04:21:06    8457214 womens_clothing_ecommerce_reviews.csv\n"
     ]
    }
   ],
   "source": [
    "!aws s3 ls s3://dlai-practical-data-science/data/raw/"
   ]
  },
  {
   "cell_type": "code",
   "execution_count": 106,
   "id": "8bc7e573-a4e9-4429-8fd9-8e0371759a93",
   "metadata": {},
   "outputs": [
    {
     "data": {
      "text/html": [
       "<div><strong>Dask DataFrame Structure:</strong></div>\n",
       "<table border=\"1\" class=\"dataframe\">\n",
       "  <thead>\n",
       "    <tr style=\"text-align: right;\">\n",
       "      <th></th>\n",
       "      <th>Unnamed: 0</th>\n",
       "      <th>Clothing ID</th>\n",
       "      <th>Age</th>\n",
       "      <th>Title</th>\n",
       "      <th>Review Text</th>\n",
       "      <th>Rating</th>\n",
       "      <th>Recommended IND</th>\n",
       "      <th>Positive Feedback Count</th>\n",
       "      <th>Division Name</th>\n",
       "      <th>Department Name</th>\n",
       "      <th>Class Name</th>\n",
       "    </tr>\n",
       "    <tr>\n",
       "      <th>npartitions=1</th>\n",
       "      <th></th>\n",
       "      <th></th>\n",
       "      <th></th>\n",
       "      <th></th>\n",
       "      <th></th>\n",
       "      <th></th>\n",
       "      <th></th>\n",
       "      <th></th>\n",
       "      <th></th>\n",
       "      <th></th>\n",
       "      <th></th>\n",
       "    </tr>\n",
       "  </thead>\n",
       "  <tbody>\n",
       "    <tr>\n",
       "      <th></th>\n",
       "      <td>int64</td>\n",
       "      <td>int64</td>\n",
       "      <td>int64</td>\n",
       "      <td>string</td>\n",
       "      <td>string</td>\n",
       "      <td>int64</td>\n",
       "      <td>int64</td>\n",
       "      <td>int64</td>\n",
       "      <td>string</td>\n",
       "      <td>string</td>\n",
       "      <td>string</td>\n",
       "    </tr>\n",
       "    <tr>\n",
       "      <th></th>\n",
       "      <td>...</td>\n",
       "      <td>...</td>\n",
       "      <td>...</td>\n",
       "      <td>...</td>\n",
       "      <td>...</td>\n",
       "      <td>...</td>\n",
       "      <td>...</td>\n",
       "      <td>...</td>\n",
       "      <td>...</td>\n",
       "      <td>...</td>\n",
       "      <td>...</td>\n",
       "    </tr>\n",
       "  </tbody>\n",
       "</table>\n",
       "<div>Dask Name: read_csv, 1 expression</div>"
      ],
      "text/plain": [
       "Dask DataFrame Structure:\n",
       "              Unnamed: 0 Clothing ID    Age   Title Review Text Rating Recommended IND Positive Feedback Count Division Name Department Name Class Name\n",
       "npartitions=1                                                                                                                                          \n",
       "                   int64       int64  int64  string      string  int64           int64                   int64        string          string     string\n",
       "                     ...         ...    ...     ...         ...    ...             ...                     ...           ...             ...        ...\n",
       "Dask Name: read_csv, 1 expression\n",
       "Expr=ReadCSV(3ae4cf5)"
      ]
     },
     "execution_count": 106,
     "metadata": {},
     "output_type": "execute_result"
    }
   ],
   "source": [
    "import dask.dataframe as dd\n",
    "ddf = dd.read_csv('s3://dlai-practical-data-science/data/raw/*.csv', index_col=False, storage_options={'anon': True})\n",
    "ddf"
   ]
  },
  {
   "cell_type": "code",
   "execution_count": 107,
   "id": "3d8fe1f5-0d64-4710-aab4-a234b59e9aa7",
   "metadata": {},
   "outputs": [
    {
     "name": "stdout",
     "output_type": "stream",
     "text": [
      "CPU times: total: 0 ns\n",
      "Wall time: 3.44 s\n"
     ]
    },
    {
     "data": {
      "text/plain": [
       "23486"
      ]
     },
     "execution_count": 107,
     "metadata": {},
     "output_type": "execute_result"
    }
   ],
   "source": [
    "%%time\n",
    "len(ddf)"
   ]
  },
  {
   "cell_type": "code",
   "execution_count": 108,
   "id": "c85a30ba-552e-4c74-a839-ce9240d7e6c2",
   "metadata": {},
   "outputs": [
    {
     "name": "stdout",
     "output_type": "stream",
     "text": [
      "CPU times: total: 0 ns\n",
      "Wall time: 2.62 s\n"
     ]
    },
    {
     "data": {
      "text/plain": [
       "23472"
      ]
     },
     "execution_count": 108,
     "metadata": {},
     "output_type": "execute_result"
    }
   ],
   "source": [
    "%%time\n",
    "ddf = ddf.dropna(how=\"all\", subset=\"Class Name\")\n",
    "len(ddf)"
   ]
  },
  {
   "cell_type": "code",
   "execution_count": 109,
   "id": "3f5f1cd2-71e5-40ee-978e-c4c47dd59e2a",
   "metadata": {},
   "outputs": [
    {
     "name": "stdout",
     "output_type": "stream",
     "text": [
      "CPU times: total: 15.6 ms\n",
      "Wall time: 3.89 s\n"
     ]
    },
    {
     "data": {
      "text/plain": [
       "Rating\n",
       "1      842\n",
       "2     1565\n",
       "3     2871\n",
       "4     5077\n",
       "5    13117\n",
       "Name: Rating, dtype: int64"
      ]
     },
     "execution_count": 109,
     "metadata": {},
     "output_type": "execute_result"
    }
   ],
   "source": [
    "%%time\n",
    "ddf.groupby(by=\"Rating\")[\"Rating\"].count().compute()"
   ]
  },
  {
   "cell_type": "markdown",
   "id": "06945578-f9bb-4908-bda1-268be9e0b561",
   "metadata": {},
   "source": [
    "get mean rating per class name for classes with more than 100 reviews. This means we first need to determine which classes have more than 100 reviews."
   ]
  },
  {
   "cell_type": "code",
   "execution_count": 113,
   "id": "ac7567e9-c6d8-43b0-b72b-d8c49ee14df7",
   "metadata": {},
   "outputs": [],
   "source": [
    "# remove rows with NA in class name\n",
    "ddf = ddf.dropna(how=\"all\", subset=\"Class Name\")\n",
    "\n",
    "# counts per class name\n",
    "counts_per_class_name = ddf[\"Class Name\"].value_counts(dropna=False)\n",
    "\n",
    "# create ddf_clean with only classes that have more than 100 counts\n",
    "more_100_counts = counts_per_class_name > 100\n",
    "more_100_indices = more_100_counts[more_100_counts].index\n",
    "ddf_clean = ddf[ddf[\"Class Name\"].isin(more_100_indices)]\n",
    "\n",
    "# groupby class name and calculate mean rating\n",
    "grouped = ddf_clean.groupby(\"Class Name\")\n",
    "mean_rating_per_class = grouped[\"Rating\"].mean()"
   ]
  },
  {
   "cell_type": "code",
   "execution_count": 114,
   "id": "e3266048-952c-4468-b4f8-ba652148537e",
   "metadata": {},
   "outputs": [
    {
     "name": "stdout",
     "output_type": "stream",
     "text": [
      "CPU times: total: 109 ms\n",
      "Wall time: 9.13 s\n"
     ]
    },
    {
     "data": {
      "text/plain": [
       "Class Name\n",
       "Blouses       4.154020\n",
       "Dresses       4.150815\n",
       "Fine gauge    4.260909\n",
       "Intimates     4.279221\n",
       "Jackets       4.295455\n",
       "Jeans         4.360942\n",
       "Knits         4.161677\n",
       "Layering      4.376712\n",
       "Legwear       4.278788\n",
       "Lounge        4.301013\n",
       "Outerwear     4.198171\n",
       "Pants         4.265850\n",
       "Shorts        4.255521\n",
       "Skirts        4.245503\n",
       "Sleep         4.285088\n",
       "Sweaters      4.179272\n",
       "Swim          4.197143\n",
       "Trend         3.815126\n",
       "Name: Rating, dtype: float64"
      ]
     },
     "execution_count": 114,
     "metadata": {},
     "output_type": "execute_result"
    }
   ],
   "source": [
    "%%time\n",
    "mean_rating_per_class.compute()"
   ]
  },
  {
   "cell_type": "code",
   "execution_count": 117,
   "id": "fc084ee4-6162-477e-bd92-115b21089ca5",
   "metadata": {},
   "outputs": [],
   "source": [
    "ddf = dd.read_parquet(\n",
    "    \"s3://coiled-datasets/timeseries/20-years/parquet\",\n",
    "    storage_options={\"anon\": True, \"use_ssl\": True}\n",
    ")"
   ]
  },
  {
   "cell_type": "code",
   "execution_count": 118,
   "id": "a7d0f54d-59a0-462d-8f7d-846a824fb5ca",
   "metadata": {},
   "outputs": [
    {
     "name": "stdout",
     "output_type": "stream",
     "text": [
      "CPU times: total: 62.5 ms\n",
      "Wall time: 19.8 s\n"
     ]
    },
    {
     "data": {
      "text/plain": [
       "662256000"
      ]
     },
     "execution_count": 118,
     "metadata": {},
     "output_type": "execute_result"
    }
   ],
   "source": [
    "%%time\n",
    "len(ddf)"
   ]
  },
  {
   "cell_type": "markdown",
   "id": "02b4f564-3a0b-4053-b196-a340bbe262cb",
   "metadata": {},
   "source": [
    "#### clean up resources"
   ]
  },
  {
   "cell_type": "code",
   "execution_count": 119,
   "id": "d1181383-e9cc-4db0-aa11-a811d3702c5d",
   "metadata": {},
   "outputs": [
    {
     "name": "stdout",
     "output_type": "stream",
     "text": [
      "pod \"dask-scheduler-f94b8654d-k5lxj\" deleted\n",
      "pod \"dask-worker-654888cbb9-8vjdm\" deleted\n",
      "pod \"dask-worker-654888cbb9-ncwxj\" deleted\n",
      "pod \"dask-worker-654888cbb9-qr7nd\" deleted\n",
      "service \"dask-scheduler\" deleted\n",
      "service \"kubernetes\" deleted\n",
      "deployment.apps \"dask-scheduler\" deleted\n",
      "deployment.apps \"dask-worker\" deleted\n"
     ]
    }
   ],
   "source": [
    "!kubectl delete all --all"
   ]
  },
  {
   "cell_type": "code",
   "execution_count": 120,
   "id": "0b80fa23-96d4-4aee-b98b-4f5abdfd3892",
   "metadata": {},
   "outputs": [
    {
     "name": "stderr",
     "output_type": "stream",
     "text": [
      "No resources found in default namespace.\n"
     ]
    },
    {
     "name": "stdout",
     "output_type": "stream",
     "text": [
      "NAME         TYPE        CLUSTER-IP   EXTERNAL-IP   PORT(S)   AGE\n",
      "kubernetes   ClusterIP   10.96.0.1    <none>        443/TCP   23s\n",
      "NAME                             READY   STATUS        RESTARTS   AGE\n",
      "dask-scheduler-f94b8654d-8xgg6   1/1     Terminating   0          24s\n",
      "dask-worker-654888cbb9-hj2f5     1/1     Terminating   0          24s\n"
     ]
    }
   ],
   "source": [
    "!kubectl get deploy\n",
    "!kubectl get svc\n",
    "!kubectl get pods"
   ]
  },
  {
   "cell_type": "code",
   "execution_count": 121,
   "id": "4e07fb17-f827-470a-9aba-75116507cc77",
   "metadata": {},
   "outputs": [],
   "source": [
    "client.close()"
   ]
  },
  {
   "cell_type": "code",
   "execution_count": null,
   "id": "a2723929-0abd-4906-84aa-67aa4e8b1b16",
   "metadata": {},
   "outputs": [],
   "source": []
  }
 ],
 "metadata": {
  "kernelspec": {
   "display_name": "Python 3 (ipykernel)",
   "language": "python",
   "name": "python3"
  },
  "language_info": {
   "codemirror_mode": {
    "name": "ipython",
    "version": 3
   },
   "file_extension": ".py",
   "mimetype": "text/x-python",
   "name": "python",
   "nbconvert_exporter": "python",
   "pygments_lexer": "ipython3",
   "version": "3.10.12"
  }
 },
 "nbformat": 4,
 "nbformat_minor": 5
}

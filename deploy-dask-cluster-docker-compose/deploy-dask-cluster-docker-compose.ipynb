{
 "cells": [
  {
   "cell_type": "markdown",
   "id": "5007b97a-87cc-49ba-bcd4-b64201b00c5f",
   "metadata": {},
   "source": [
    "# Part I - docker compose\n",
    "\n",
    "Part I is about using docker compose to start multiple docker containers. Using docker compose you can also put all commands you normally need to run a container in a file. It can be submitted to version control system."
   ]
  },
  {
   "cell_type": "code",
   "execution_count": 7,
   "id": "6c08c94a-6dad-44e3-915f-1ad1796a6343",
   "metadata": {},
   "outputs": [
    {
     "name": "stdout",
     "output_type": "stream",
     "text": [
      "['.ipynb_checkpoints', 'deploy-dask-cluster-docker-compose.ipynb', 'docker', 'docker-compose.yml']\n",
      "['Dockerfile', 'requirements.txt']\n"
     ]
    }
   ],
   "source": [
    "import os\n",
    "print(os.listdir())\n",
    "print(os.listdir('docker'))"
   ]
  },
  {
   "cell_type": "code",
   "execution_count": 4,
   "id": "2cceb831-009f-4681-982e-bb0afb47b64f",
   "metadata": {},
   "outputs": [
    {
     "name": "stdout",
     "output_type": "stream",
     "text": [
      "Folder PATH listing for volume Acer\n",
      "Volume serial number is A2AC-A7B2\n",
      "C:.\n",
      "+---.ipynb_checkpoints\n",
      "+---docker\n"
     ]
    }
   ],
   "source": [
    "!tree"
   ]
  },
  {
   "cell_type": "markdown",
   "id": "1b730c65-94ff-4872-8ca5-255617392608",
   "metadata": {},
   "source": [
    "#### Already done\n",
    "\n",
    "In notebook xyz a Dockerfile and requirements were created. These are repeated such that this directory is self contained. "
   ]
  },
  {
   "cell_type": "code",
   "execution_count": 9,
   "id": "11a3e498-e17e-4609-9ede-3e10e67de64d",
   "metadata": {},
   "outputs": [
    {
     "name": "stdout",
     "output_type": "stream",
     "text": [
      "Overwriting ./docker/Dockerfile\n"
     ]
    }
   ],
   "source": [
    "%%writefile ./docker/Dockerfile\n",
    "FROM python:3.10.12-slim\n",
    "\n",
    "WORKDIR app\n",
    "COPY ./requirements.txt .\n",
    "\n",
    "RUN pip3 install --upgrade pip\n",
    "\n",
    "RUN pip3 install -r requirements.txt\n",
    "\n",
    "EXPOSE 8786 8787 30000-65535\n",
    "\n",
    "CMD [\"dask\", \"scheduler\", \"--host\", \"0.0.0.0\"]\n",
    "#CMD [\"dask\", \"scheduler\"]\n"
   ]
  },
  {
   "cell_type": "code",
   "execution_count": 15,
   "id": "92e9c002-9408-46b9-86b5-e8cbf6cd306f",
   "metadata": {},
   "outputs": [
    {
     "name": "stdout",
     "output_type": "stream",
     "text": [
      "Overwriting ./docker/requirements.txt\n"
     ]
    }
   ],
   "source": [
    "%%writefile ./docker/requirements.txt\n",
    "pandas==2.2.3\n",
    "numpy==2.1.0\n",
    "dask[complete]==2024.9.1\n",
    "dask-cloudprovider==2024.9.0\n",
    "s3fs==2024.9.0\n",
    "dask-expr==1.1.15\n",
    "awscli\n",
    "jupyter\n"
   ]
  },
  {
   "cell_type": "code",
   "execution_count": 16,
   "id": "27cf5399-3e4d-47d4-894a-dc238280d654",
   "metadata": {},
   "outputs": [
    {
     "data": {
      "text/plain": [
       "['Dockerfile', 'requirements.txt']"
      ]
     },
     "execution_count": 16,
     "metadata": {},
     "output_type": "execute_result"
    }
   ],
   "source": [
    "os.listdir('docker')"
   ]
  },
  {
   "cell_type": "code",
   "execution_count": 54,
   "id": "0dbddb83-b3cf-4ebd-b240-e39dd4858561",
   "metadata": {},
   "outputs": [
    {
     "name": "stdout",
     "output_type": "stream",
     "text": [
      "Overwriting docker-compose.yml\n"
     ]
    }
   ],
   "source": [
    "%%writefile docker-compose.yml\n",
    "services:\n",
    "  dask-scheduler:\n",
    "    restart: always\n",
    "    #context: ./\n",
    "    build: ./docker/\n",
    "    container_name: dask-scheduler-container\n",
    "    ports:\n",
    "      - 8786-8787:8786-8787\n",
    "  dask-worker-1:\n",
    "    restart: always\n",
    "    #context: ./\n",
    "    build: ./docker\n",
    "    container_name: dask-worker-1\n",
    "    command: \"dask worker tcp://dask-scheduler:8786\"\n"
   ]
  },
  {
   "cell_type": "code",
   "execution_count": 55,
   "id": "b976051f-8835-4d1d-b321-4b9ea7a21c40",
   "metadata": {},
   "outputs": [
    {
     "name": "stdout",
     "output_type": "stream",
     "text": [
      "#0 building with \"default\" instance using docker driver"
     ]
    },
    {
     "name": "stderr",
     "output_type": "stream",
     "text": [
      "2024/10/24 19:11:11 http2: server: error reading preface from client //./pipe/docker_engine: file has already been closed\n"
     ]
    },
    {
     "name": "stdout",
     "output_type": "stream",
     "text": [
      "\n",
      "\n",
      "#1 [dask-worker-1 internal] load build definition from Dockerfile\n",
      "#1 transferring dockerfile: 291B done\n",
      "#1 DONE 0.0s\n",
      "\n",
      "#2 [dask-scheduler internal] load build definition from Dockerfile\n",
      "#2 transferring dockerfile: 291B done\n",
      "#2 DONE 0.0s\n",
      "\n",
      "#3 [dask-scheduler internal] load metadata for docker.io/library/python:3.10.12-slim\n",
      "#3 DONE 0.7s\n",
      "\n",
      "#4 [dask-scheduler internal] load .dockerignore\n",
      "#4 transferring context: 2B done\n",
      "#4 DONE 0.0s\n",
      "\n",
      "#5 [dask-worker-1 internal] load .dockerignore\n",
      "#5 transferring context: 2B done\n",
      "#5 DONE 0.0s\n",
      "\n",
      "#6 [dask-scheduler internal] load build context\n",
      "#6 transferring context: 38B done\n",
      "#6 DONE 0.0s\n",
      "\n",
      "#7 [dask-scheduler 1/5] FROM docker.io/library/python:3.10.12-slim@sha256:4d440b214e447deddc0a94de23a3d97d28dfafdf125a8b4bb8073381510c9ee2\n",
      "#7 DONE 0.0s\n",
      "\n",
      "#8 [dask-worker-1 internal] load build context\n",
      "#8 transferring context: 38B done\n",
      "#8 DONE 0.0s\n",
      "\n",
      "#9 [dask-worker-1 2/5] WORKDIR app\n",
      "#9 CACHED\n",
      "\n",
      "#10 [dask-worker-1 3/5] COPY ./requirements.txt .\n",
      "#10 CACHED\n",
      "\n",
      "#11 [dask-worker-1 4/5] RUN pip3 install --upgrade pip\n",
      "#11 CACHED\n",
      "\n",
      "#12 [dask-scheduler 5/5] RUN pip3 install -r requirements.txt\n",
      "#12 CACHED\n",
      "\n",
      "#13 [dask-scheduler] exporting to image\n",
      "#13 exporting layers done\n",
      "#13 writing image sha256:8d6bd43a6d9044472c8d582c4c2889a159ae1d83b2314489f487ce5939bfe377 0.1s done\n",
      "#13 naming to docker.io/library/deploy-dask-cluster-docker-compose-dask-scheduler\n",
      "#13 naming to docker.io/library/deploy-dask-cluster-docker-compose-dask-scheduler 0.1s done\n",
      "#13 DONE 0.2s\n",
      "\n",
      "#14 [dask-worker-1] exporting to image\n",
      "#14 exporting layers done\n",
      "#14 writing image sha256:562b801c506a32e0e08af8a791955dffd9b7d4ed3a1fdf0c8ea25f5ab34e0689 0.0s done\n",
      "#14 naming to docker.io/library/deploy-dask-cluster-docker-compose-dask-worker-1 0.1s done\n",
      "#14 DONE 0.2s\n"
     ]
    }
   ],
   "source": [
    "!docker compose build"
   ]
  },
  {
   "cell_type": "code",
   "execution_count": 60,
   "id": "280fafbf-9c7b-4af9-9b38-fd07f7d5960f",
   "metadata": {},
   "outputs": [
    {
     "name": "stderr",
     "output_type": "stream",
     "text": [
      " Network deploy-dask-cluster-docker-compose_default  Creating\n",
      " Network deploy-dask-cluster-docker-compose_default  Created\n",
      " Container dask-scheduler-container  Creating\n",
      " Container dask-worker-1  Creating\n",
      " Container dask-worker-1  Created\n",
      " Container dask-scheduler-container  Created\n",
      " Container dask-scheduler-container  Starting\n",
      " Container dask-worker-1  Starting\n",
      " Container dask-worker-1  Started\n",
      " Container dask-scheduler-container  Started\n"
     ]
    }
   ],
   "source": [
    "!docker-compose up -d"
   ]
  },
  {
   "cell_type": "code",
   "execution_count": 61,
   "id": "02fd4f26-c13d-4f6e-9173-6a5f238097e7",
   "metadata": {},
   "outputs": [
    {
     "name": "stdout",
     "output_type": "stream",
     "text": [
      "CONTAINER ID   IMAGE                                               COMMAND                  CREATED         STATUS         PORTS                                               NAMES\n",
      "24fafab0f794   deploy-dask-cluster-docker-compose-dask-scheduler   \"dask scheduler --hoâ€¦\"   7 seconds ago   Up 3 seconds   0.0.0.0:8786-8787->8786-8787/tcp, 30000-65535/tcp   dask-scheduler-container\n",
      "1f4f2554de66   deploy-dask-cluster-docker-compose-dask-worker-1    \"dask worker tcp://dâ€¦\"   7 seconds ago   Up 4 seconds   8786-8787/tcp, 30000-65535/tcp                      dask-worker-1\n"
     ]
    }
   ],
   "source": [
    "!docker ps"
   ]
  },
  {
   "cell_type": "code",
   "execution_count": 63,
   "id": "27640c06-cbd2-4adf-ba31-1a02dc0cbeb4",
   "metadata": {},
   "outputs": [
    {
     "name": "stderr",
     "output_type": "stream",
     "text": [
      "2024-10-24 17:12:27,457 - distributed.scheduler - INFO - -----------------------------------------------\n",
      "2024-10-24 17:12:28,120 - distributed.http.proxy - INFO - To route to workers diagnostics web server please install jupyter-server-proxy: python -m pip install jupyter-server-proxy\n",
      "2024-10-24 17:12:28,192 - distributed.scheduler - INFO - State start\n",
      "2024-10-24 17:12:28,198 - distributed.scheduler - INFO - -----------------------------------------------\n",
      "2024-10-24 17:12:28,200 - distributed.scheduler - INFO -   Scheduler at:     tcp://172.21.0.3:8786\n",
      "2024-10-24 17:12:28,201 - distributed.scheduler - INFO -   dashboard at:  http://172.21.0.3:8787/status\n",
      "2024-10-24 17:12:28,201 - distributed.scheduler - INFO - Registering Worker plugin shuffle\n",
      "2024-10-24 17:12:31,767 - distributed.scheduler - INFO - Register worker <WorkerState 'tcp://172.21.0.2:35795', status: init, memory: 0, processing: 0>\n",
      "2024-10-24 17:12:32,130 - distributed.scheduler - INFO - Starting worker compute stream, tcp://172.21.0.2:35795\n",
      "2024-10-24 17:12:32,130 - distributed.core - INFO - Starting established connection to tcp://172.21.0.2:48754\n"
     ]
    }
   ],
   "source": [
    "!docker logs dask-scheduler-container"
   ]
  },
  {
   "cell_type": "code",
   "execution_count": 62,
   "id": "72fdddf9-c2e4-4b9a-9028-2cb3c90eec43",
   "metadata": {},
   "outputs": [
    {
     "name": "stderr",
     "output_type": "stream",
     "text": [
      "2024-10-24 17:12:30,011 - distributed.nanny - INFO -         Start Nanny at: 'tcp://172.21.0.2:34765'\n",
      "2024-10-24 17:12:31,275 - distributed.worker - INFO -       Start worker at:     tcp://172.21.0.2:35795\n",
      "2024-10-24 17:12:31,275 - distributed.worker - INFO -          Listening to:     tcp://172.21.0.2:35795\n",
      "2024-10-24 17:12:31,275 - distributed.worker - INFO -          dashboard at:           172.21.0.2:44081\n",
      "2024-10-24 17:12:31,275 - distributed.worker - INFO - Waiting to connect to:  tcp://dask-scheduler:8786\n",
      "2024-10-24 17:12:31,276 - distributed.worker - INFO - -------------------------------------------------\n",
      "2024-10-24 17:12:31,276 - distributed.worker - INFO -               Threads:                         12\n",
      "2024-10-24 17:12:31,276 - distributed.worker - INFO -                Memory:                  15.54 GiB\n",
      "2024-10-24 17:12:31,277 - distributed.worker - INFO -       Local Directory: /tmp/dask-scratch-space/worker-c9m9p3pw\n",
      "2024-10-24 17:12:31,277 - distributed.worker - INFO - -------------------------------------------------\n",
      "2024-10-24 17:12:32,130 - distributed.worker - INFO - Starting Worker plugin shuffle\n",
      "2024-10-24 17:12:32,131 - distributed.worker - INFO -         Registered to:  tcp://dask-scheduler:8786\n",
      "2024-10-24 17:12:32,131 - distributed.worker - INFO - -------------------------------------------------\n",
      "2024-10-24 17:12:32,132 - distributed.core - INFO - Starting established connection to tcp://dask-scheduler:8786\n"
     ]
    }
   ],
   "source": [
    "!docker logs dask-worker-1"
   ]
  },
  {
   "cell_type": "code",
   "execution_count": 64,
   "id": "4ee6faaf-bb9a-427c-b9aa-136db2f35b03",
   "metadata": {},
   "outputs": [],
   "source": [
    "from dask.distributed import Client"
   ]
  },
  {
   "cell_type": "code",
   "execution_count": 65,
   "id": "d0621bd5-4ff7-49b4-af30-e2a1f5400d80",
   "metadata": {},
   "outputs": [],
   "source": [
    "client = Client(address=\"tcp://localhost:8786\")"
   ]
  },
  {
   "cell_type": "code",
   "execution_count": 66,
   "id": "cc17e06e-c390-4d08-9366-eecbb381d74f",
   "metadata": {},
   "outputs": [
    {
     "data": {
      "text/html": [
       "<div>\n",
       "    <div style=\"width: 24px; height: 24px; background-color: #e1e1e1; border: 3px solid #9D9D9D; border-radius: 5px; position: absolute;\"> </div>\n",
       "    <div style=\"margin-left: 48px;\">\n",
       "        <h3 style=\"margin-bottom: 0px;\">Client</h3>\n",
       "        <p style=\"color: #9D9D9D; margin-bottom: 0px;\">Client-43bdd98c-922b-11ef-ab40-8c8d28f5c58e</p>\n",
       "        <table style=\"width: 100%; text-align: left;\">\n",
       "\n",
       "        <tr>\n",
       "        \n",
       "            <td style=\"text-align: left;\"><strong>Connection method:</strong> Direct</td>\n",
       "            <td style=\"text-align: left;\"></td>\n",
       "        \n",
       "        </tr>\n",
       "\n",
       "        \n",
       "            <tr>\n",
       "                <td style=\"text-align: left;\">\n",
       "                    <strong>Dashboard: </strong> <a href=\"http://localhost:8787/status\" target=\"_blank\">http://localhost:8787/status</a>\n",
       "                </td>\n",
       "                <td style=\"text-align: left;\"></td>\n",
       "            </tr>\n",
       "        \n",
       "\n",
       "        </table>\n",
       "\n",
       "        \n",
       "\n",
       "        \n",
       "            <details>\n",
       "            <summary style=\"margin-bottom: 20px;\"><h3 style=\"display: inline;\">Scheduler Info</h3></summary>\n",
       "            <div style=\"\">\n",
       "    <div>\n",
       "        <div style=\"width: 24px; height: 24px; background-color: #FFF7E5; border: 3px solid #FF6132; border-radius: 5px; position: absolute;\"> </div>\n",
       "        <div style=\"margin-left: 48px;\">\n",
       "            <h3 style=\"margin-bottom: 0px;\">Scheduler</h3>\n",
       "            <p style=\"color: #9D9D9D; margin-bottom: 0px;\">Scheduler-bb5fc15d-7bee-4924-a7e5-29bab9dead05</p>\n",
       "            <table style=\"width: 100%; text-align: left;\">\n",
       "                <tr>\n",
       "                    <td style=\"text-align: left;\">\n",
       "                        <strong>Comm:</strong> tcp://172.21.0.3:8786\n",
       "                    </td>\n",
       "                    <td style=\"text-align: left;\">\n",
       "                        <strong>Workers:</strong> 1\n",
       "                    </td>\n",
       "                </tr>\n",
       "                <tr>\n",
       "                    <td style=\"text-align: left;\">\n",
       "                        <strong>Dashboard:</strong> <a href=\"http://172.21.0.3:8787/status\" target=\"_blank\">http://172.21.0.3:8787/status</a>\n",
       "                    </td>\n",
       "                    <td style=\"text-align: left;\">\n",
       "                        <strong>Total threads:</strong> 12\n",
       "                    </td>\n",
       "                </tr>\n",
       "                <tr>\n",
       "                    <td style=\"text-align: left;\">\n",
       "                        <strong>Started:</strong> Just now\n",
       "                    </td>\n",
       "                    <td style=\"text-align: left;\">\n",
       "                        <strong>Total memory:</strong> 15.54 GiB\n",
       "                    </td>\n",
       "                </tr>\n",
       "            </table>\n",
       "        </div>\n",
       "    </div>\n",
       "\n",
       "    <details style=\"margin-left: 48px;\">\n",
       "        <summary style=\"margin-bottom: 20px;\">\n",
       "            <h3 style=\"display: inline;\">Workers</h3>\n",
       "        </summary>\n",
       "\n",
       "        \n",
       "        <div style=\"margin-bottom: 20px;\">\n",
       "            <div style=\"width: 24px; height: 24px; background-color: #DBF5FF; border: 3px solid #4CC9FF; border-radius: 5px; position: absolute;\"> </div>\n",
       "            <div style=\"margin-left: 48px;\">\n",
       "            <details>\n",
       "                <summary>\n",
       "                    <h4 style=\"margin-bottom: 0px; display: inline;\">Worker: tcp://172.21.0.2:35795</h4>\n",
       "                </summary>\n",
       "                <table style=\"width: 100%; text-align: left;\">\n",
       "                    <tr>\n",
       "                        <td style=\"text-align: left;\">\n",
       "                            <strong>Comm: </strong> tcp://172.21.0.2:35795\n",
       "                        </td>\n",
       "                        <td style=\"text-align: left;\">\n",
       "                            <strong>Total threads: </strong> 12\n",
       "                        </td>\n",
       "                    </tr>\n",
       "                    <tr>\n",
       "                        <td style=\"text-align: left;\">\n",
       "                            <strong>Dashboard: </strong> <a href=\"http://172.21.0.2:44081/status\" target=\"_blank\">http://172.21.0.2:44081/status</a>\n",
       "                        </td>\n",
       "                        <td style=\"text-align: left;\">\n",
       "                            <strong>Memory: </strong> 15.54 GiB\n",
       "                        </td>\n",
       "                    </tr>\n",
       "                    <tr>\n",
       "                        <td style=\"text-align: left;\">\n",
       "                            <strong>Nanny: </strong> tcp://172.21.0.2:34765\n",
       "                        </td>\n",
       "                        <td style=\"text-align: left;\"></td>\n",
       "                    </tr>\n",
       "                    <tr>\n",
       "                        <td colspan=\"2\" style=\"text-align: left;\">\n",
       "                            <strong>Local directory: </strong> /tmp/dask-scratch-space/worker-c9m9p3pw\n",
       "                        </td>\n",
       "                    </tr>\n",
       "\n",
       "                    \n",
       "\n",
       "                    \n",
       "                    <tr>\n",
       "                        <td style=\"text-align: left;\">\n",
       "                            <strong>Tasks executing: </strong> \n",
       "                        </td>\n",
       "                        <td style=\"text-align: left;\">\n",
       "                            <strong>Tasks in memory: </strong> \n",
       "                        </td>\n",
       "                    </tr>\n",
       "                    <tr>\n",
       "                        <td style=\"text-align: left;\">\n",
       "                            <strong>Tasks ready: </strong> \n",
       "                        </td>\n",
       "                        <td style=\"text-align: left;\">\n",
       "                            <strong>Tasks in flight: </strong>\n",
       "                        </td>\n",
       "                    </tr>\n",
       "                    <tr>\n",
       "                        <td style=\"text-align: left;\">\n",
       "                            <strong>CPU usage:</strong> 6.0%\n",
       "                        </td>\n",
       "                        <td style=\"text-align: left;\">\n",
       "                            <strong>Last seen: </strong> Just now\n",
       "                        </td>\n",
       "                    </tr>\n",
       "                    <tr>\n",
       "                        <td style=\"text-align: left;\">\n",
       "                            <strong>Memory usage: </strong> 154.03 MiB\n",
       "                        </td>\n",
       "                        <td style=\"text-align: left;\">\n",
       "                            <strong>Spilled bytes: </strong> 0 B\n",
       "                        </td>\n",
       "                    </tr>\n",
       "                    <tr>\n",
       "                        <td style=\"text-align: left;\">\n",
       "                            <strong>Read bytes: </strong> 573.0414202634641 B\n",
       "                        </td>\n",
       "                        <td style=\"text-align: left;\">\n",
       "                            <strong>Write bytes: </strong> 1.57 kiB\n",
       "                        </td>\n",
       "                    </tr>\n",
       "                    \n",
       "\n",
       "                </table>\n",
       "            </details>\n",
       "            </div>\n",
       "        </div>\n",
       "        \n",
       "\n",
       "    </details>\n",
       "</div>\n",
       "            </details>\n",
       "        \n",
       "\n",
       "    </div>\n",
       "</div>"
      ],
      "text/plain": [
       "<Client: 'tcp://172.21.0.3:8786' processes=1 threads=12, memory=15.54 GiB>"
      ]
     },
     "execution_count": 66,
     "metadata": {},
     "output_type": "execute_result"
    }
   ],
   "source": [
    "client"
   ]
  },
  {
   "cell_type": "markdown",
   "id": "69651700-d865-48cd-9f9b-0364b664972e",
   "metadata": {},
   "source": [
    "docker compose created an internal bridge network. The internal IP from the scheduler above can be found in the docker network that was created."
   ]
  },
  {
   "cell_type": "code",
   "execution_count": 67,
   "id": "6e88b3fd-4963-4f74-8a72-35f2af52fab4",
   "metadata": {},
   "outputs": [
    {
     "name": "stdout",
     "output_type": "stream",
     "text": [
      "NETWORK ID     NAME                                         DRIVER    SCOPE\n",
      "a99534b2cf90   bridge                                       bridge    local\n",
      "5c44ba80445b   deploy-dask-cluster-docker-compose_default   bridge    local\n",
      "4efe82ca718c   host                                         host      local\n",
      "bd68aa16dd4b   none                                         null      local\n",
      "e80b6b301979   setuppostgresdatabase_default                bridge    local\n"
     ]
    }
   ],
   "source": [
    "!docker network ls"
   ]
  },
  {
   "cell_type": "markdown",
   "id": "2111d1ad-66d9-48d1-9380-4ce0896ad070",
   "metadata": {},
   "source": [
    "inspect the network to see the internal IP adresses and compare to above"
   ]
  },
  {
   "cell_type": "code",
   "execution_count": 69,
   "id": "5e1214e7-a0c5-4cd3-9985-e81a987b7b0f",
   "metadata": {},
   "outputs": [],
   "source": [
    "#!docker network inspect deploy-dask-cluster-docker-compose_default"
   ]
  },
  {
   "cell_type": "code",
   "execution_count": 72,
   "id": "6ebfefdc-5783-4243-a4eb-dd0de831a14d",
   "metadata": {},
   "outputs": [],
   "source": [
    "client.close()"
   ]
  },
  {
   "cell_type": "code",
   "execution_count": 73,
   "id": "f01c4fba-214d-4c18-b566-4a8b878fc84b",
   "metadata": {},
   "outputs": [
    {
     "name": "stderr",
     "output_type": "stream",
     "text": [
      " Container dask-scheduler-container  Stopping\n",
      " Container dask-worker-1  Stopping\n",
      " Container dask-scheduler-container  Stopped\n",
      " Container dask-scheduler-container  Removing\n",
      " Container dask-scheduler-container  Removed\n",
      " Container dask-worker-1  Stopped\n",
      " Container dask-worker-1  Removing\n",
      " Container dask-worker-1  Removed\n",
      " Network deploy-dask-cluster-docker-compose_default  Removing\n",
      " Network deploy-dask-cluster-docker-compose_default  Removed\n"
     ]
    }
   ],
   "source": [
    "!docker compose down"
   ]
  },
  {
   "cell_type": "markdown",
   "id": "e49c59ee-0c2e-4173-80fe-18684be29b52",
   "metadata": {},
   "source": [
    "# Kubernetes\n",
    "\n",
    "https://www.youtube.com/watch?v=p6xDCz00TxU\n",
    "\n",
    "https://www.dabbleofdevops.com/blog/deploy-and-scale-your-dask-cluster-with-kubernetes"
   ]
  },
  {
   "cell_type": "code",
   "execution_count": null,
   "id": "34656aad-0e7b-43da-a9a4-278a7e4a51da",
   "metadata": {},
   "outputs": [],
   "source": []
  }
 ],
 "metadata": {
  "kernelspec": {
   "display_name": "Python 3 (ipykernel)",
   "language": "python",
   "name": "python3"
  },
  "language_info": {
   "codemirror_mode": {
    "name": "ipython",
    "version": 3
   },
   "file_extension": ".py",
   "mimetype": "text/x-python",
   "name": "python",
   "nbconvert_exporter": "python",
   "pygments_lexer": "ipython3",
   "version": "3.10.12"
  }
 },
 "nbformat": 4,
 "nbformat_minor": 5
}

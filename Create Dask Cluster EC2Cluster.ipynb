{
 "cells": [
  {
   "cell_type": "markdown",
   "id": "17d59542-18f7-4c9f-8471-dea34d16fca5",
   "metadata": {},
   "source": [
    "# Create Dask Cluster using dask_cloudprovider\n",
    "\n",
    "In this notebook a dask cluster will be created using the `EC2Cluster` that is available in `dask_cloudprovider`.\n",
    "\n",
    "## Create necessary permissions\n",
    "\n",
    "### 1. IAM user\n",
    "In order to create this cluster you need permission to EC2 resources. In the exercises the cluster uses data in S3. Therefore as user was created with programmatic access that has `AmazonS3FullAccesss` and `AmazonEC2FullAccess` policies attached. If you intend to provide an IAM role you also need `IAMFullAccess`. `AmazonEC2ContainerRegistryFullAccess`\n",
    "\n",
    "### 2. EC2 role\n",
    "\n",
    "Create a role `dask-cluster-ec2-role` with `AmazonS3FullAccesss` and  `AmazonEC2ContainerRegistryFullAccess`\n",
    "\n",
    "### 2. key pair\n",
    "\n",
    "Creat a key pair `dask-keys`.\n",
    "\n"
   ]
  },
  {
   "cell_type": "markdown",
   "id": "0479e601-bc16-4a65-8a6b-6c11abac09df",
   "metadata": {},
   "source": [
    "### Rest"
   ]
  },
  {
   "cell_type": "code",
   "execution_count": null,
   "id": "79dfa796-d40a-4e8e-904b-8edd9bc6e4eb",
   "metadata": {},
   "outputs": [],
   "source": [
    "from dask.distributed import Client\n",
    "from dask_cloudprovider.aws import EC2Cluster\n",
    "from typing import List, Optional\n",
    "\n",
    "import dask.array as da\n",
    "import dask.dataframe as dd"
   ]
  },
  {
   "cell_type": "markdown",
   "id": "4e62d7c5-f333-4318-aec9-b2b5e5979b58",
   "metadata": {},
   "source": [
    "check if we have sufficient permissions"
   ]
  },
  {
   "cell_type": "markdown",
   "id": "e88b3fd8-c6fc-43f5-8aeb-c194e08872a9",
   "metadata": {},
   "source": [
    "check s3 permissions"
   ]
  },
  {
   "cell_type": "code",
   "execution_count": null,
   "id": "8c23e9c9-7323-4cd5-af88-33986db09c82",
   "metadata": {},
   "outputs": [],
   "source": [
    "# check s3 permissions\n",
    "# !aws s3 ls"
   ]
  },
  {
   "cell_type": "markdown",
   "id": "5a6a2c06-5838-4965-9e9b-e0c1b49acd4a",
   "metadata": {},
   "source": [
    "check ec2 permissions"
   ]
  },
  {
   "cell_type": "code",
   "execution_count": null,
   "id": "87e18df5-b2ef-4e89-a695-007b767cb35d",
   "metadata": {},
   "outputs": [],
   "source": [
    "# Check ec2 permissions\n",
    "#!aws ec2 describe-subnets"
   ]
  },
  {
   "cell_type": "markdown",
   "id": "07e800a5-7b97-4ab0-a699-e9b0628b7ceb",
   "metadata": {},
   "source": [
    "check iam permissions"
   ]
  },
  {
   "cell_type": "code",
   "execution_count": null,
   "id": "f4d83a04-afce-450a-94f8-3d69fecba412",
   "metadata": {},
   "outputs": [],
   "source": [
    "# !aws iam list-users"
   ]
  },
  {
   "cell_type": "markdown",
   "id": "308cb7f1-8d66-4e0d-88c2-afb7541f05ac",
   "metadata": {},
   "source": [
    "#### Create the cluster on AWS\n",
    "\n",
    "In order to use the EC2Cluster class we need to set `security=False` otherwise an error message was returned.\n",
    "\n",
    "**remark**:\n",
    "- When using ACG sandboxes the region **must** be `us-east-1`"
   ]
  },
  {
   "cell_type": "markdown",
   "id": "29d01d46-bc14-4793-bb40-721655fa9765",
   "metadata": {},
   "source": [
    "## TODO\n",
    "\n",
    "- include outbound traffic on 80 and 443"
   ]
  },
  {
   "cell_type": "raw",
   "id": "2623e6dc-d70a-4d44-8ba0-344a7a5f1b77",
   "metadata": {},
   "source": [
    " region: str =\"us-east-1\",\n",
    " availability_zone: str | List[str] = None,\n",
    " bootstrap: bool = True,\n",
    " auto_shutdown = None,\n",
    " ami: str = None,\n",
    " instance_type: Optional[str] = None,\n",
    " scheduler_instance_type: Optional[str] ='t2.micro',\n",
    " worker_instance_type: Optional[str] = 't2.medium', \n",
    " vpc: Optional[str] = None,\n",
    " subnet_id: Optional[str] = None,\n",
    " security_groups: Optional[str] = None,\n",
    " filesystem_size: Optional[int] = None,\n",
    " key_name: Optional[str] = \"dask-keys\",\n",
    " # the Name is the IAM role name\n",
    " iam_instance_profile: Optional[str] = {'Name': 'dask-cluster-ec2-role'},\n",
    " n_workers: int = 2,\n",
    " docker_image: Optional[str] = \"daskdev/dask:latest\", \n",
    " docker_args: Optional[str] = None,\n",
    " debug: Optional[bool] = False,\n",
    " security: Optional[bool] = False,\n",
    " worker_command: Optional[str] = None,"
   ]
  },
  {
   "cell_type": "markdown",
   "id": "4d80e080-439b-415f-b3ee-b4b23d3e7e82",
   "metadata": {},
   "source": [
    "**remark**:\n",
    "- from dask discord we received a hint to use `env_vars` to install extra packages. However this does not work. "
   ]
  },
  {
   "cell_type": "code",
   "execution_count": null,
   "id": "45dfa26f-a618-4c59-9062-e5a5118e1e30",
   "metadata": {},
   "outputs": [],
   "source": [
    "cluster = EC2Cluster(\n",
    "                     region=\"us-east-1\",\n",
    "                     availability_zone= None,\n",
    "                     bootstrap= True,  # to install docker on the image\n",
    "                     auto_shutdown= None,\n",
    "                     ami= None,\n",
    "                     instance_type= None,\n",
    "                     scheduler_instance_type='t2.micro',\n",
    "                     worker_instance_type= 't2.medium', \n",
    "                     vpc= None,\n",
    "                     subnet_id = None,\n",
    "                     security_groups = None,\n",
    "                     filesystem_size= None,\n",
    "                     key_name= \"dask-keys\",\n",
    "                     # the Name is the IAM role name\n",
    "                     iam_instance_profile= {'Name': 'dask-cluster-ec2-role'},\n",
    "                     n_workers= 2,\n",
    "                     docker_image = \"daskdev/dask:latest\", \n",
    "                     docker_args = None,\n",
    "                     debug = False,\n",
    "                     security = False,\n",
    "                     #env_vars={'EXTRA_CONDA_PACKAGES': 's3fs'}\n",
    ")"
   ]
  },
  {
   "cell_type": "raw",
   "id": "a3769a70-0392-4f88-924b-7c940b252213",
   "metadata": {},
   "source": [
    "cluster = EC2Cluster(region=\"us-east-1\",\n",
    "                     # the Name is the IAM role name\n",
    "                     iam_instance_profile=\n",
    "                         {'Name': 'dask-cluster-ec2-role'},\n",
    "                     n_workers=4, \n",
    "                     worker_instance_type='t2.medium', \n",
    "                     scheduler_instance_type='t2.micro',              \n",
    "                     security=False,\n",
    "                     env_vars={'EXTRA_CONDA_PACKAGES': 's3fs'})"
   ]
  },
  {
   "cell_type": "markdown",
   "id": "0b242127-3a4e-4771-bddd-c4dbaf8e8b30",
   "metadata": {},
   "source": [
    "Below works!!!!"
   ]
  },
  {
   "cell_type": "raw",
   "id": "b08589c0-4db7-4257-b0ae-e3db967a7b51",
   "metadata": {},
   "source": [
    "cluster = EC2Cluster(region=\"us-east-1\",\n",
    "                     # the Name is the IAM role name\n",
    "                     iam_instance_profile=\n",
    "                         {'Name': 'dask-cluster-ec2-role'},\n",
    "                     n_workers=4, \n",
    "                     worker_instance_type='t2.medium', \n",
    "                     scheduler_instance_type='t2.micro',\n",
    "                 \n",
    "                     security=False)"
   ]
  },
  {
   "cell_type": "code",
   "execution_count": null,
   "id": "95d2029f-1f64-4d5d-b7ce-dcc76e6f4659",
   "metadata": {},
   "outputs": [],
   "source": [
    "cluster.get_logs()"
   ]
  },
  {
   "cell_type": "markdown",
   "id": "cc9deac5-6e9d-4b42-bffb-2e28b2f8259c",
   "metadata": {},
   "source": [
    "you can always scale a cluster using `.scale(n)` where `n` is the number of worker instances"
   ]
  },
  {
   "cell_type": "raw",
   "id": "486c1705-e702-48e0-821d-da82b7fe261b",
   "metadata": {},
   "source": [
    "cluster.scale(3)"
   ]
  },
  {
   "cell_type": "code",
   "execution_count": null,
   "id": "845f74e2-2a13-435b-9f69-0a1d25d2a253",
   "metadata": {},
   "outputs": [],
   "source": [
    "client = Client(cluster)\n",
    "client"
   ]
  },
  {
   "cell_type": "markdown",
   "id": "226b8cd6-a1f7-42d4-b9f7-71d2cf90c8cc",
   "metadata": {},
   "source": [
    "### Manual installation of s3fs"
   ]
  },
  {
   "cell_type": "code",
   "execution_count": null,
   "id": "58f88bea-22c7-461c-8795-cdd0cb552a15",
   "metadata": {},
   "outputs": [],
   "source": [
    "# Check if 's3fs' is installed on the workers\n",
    "def check_s3fs():\n",
    "    try:\n",
    "        import s3fs\n",
    "        return True\n",
    "    except ImportError:\n",
    "        return False\n",
    "\n",
    "# Run the check on all workers\n",
    "print(client.run(check_s3fs))"
   ]
  },
  {
   "cell_type": "markdown",
   "id": "303eca0a-39e6-41fe-9b55-f39bc0d4fd57",
   "metadata": {},
   "source": [
    "install on workers"
   ]
  },
  {
   "cell_type": "code",
   "execution_count": null,
   "id": "1f5256ec-865f-442b-b7aa-50566b2a7fd1",
   "metadata": {},
   "outputs": [],
   "source": [
    "client.run(lambda: __import__('subprocess').check_call(['pip3', 'install', 's3fs']))\n",
    "\n",
    "# Run the check on all workers\n",
    "print(client.run(check_s3fs))"
   ]
  },
  {
   "cell_type": "markdown",
   "id": "df05719c-abb9-456d-b8e3-2a1ecc4579d7",
   "metadata": {},
   "source": [
    "install on scheduler"
   ]
  },
  {
   "cell_type": "code",
   "execution_count": null,
   "id": "c1cc5636-e834-4579-acb9-bc3f8d467227",
   "metadata": {},
   "outputs": [],
   "source": [
    "# Install s3fs on the scheduler\n",
    "client.run_on_scheduler(lambda: __import__('subprocess').check_call(['pip3', 'install', 's3fs']))\n",
    "\n",
    "# Run the check on all workers\n",
    "print(client.run_on_scheduler(check_s3fs))"
   ]
  },
  {
   "cell_type": "code",
   "execution_count": null,
   "id": "52284765-c307-40d6-adbf-ce8e2a1e637a",
   "metadata": {},
   "outputs": [],
   "source": [
    "# client.get_worker_logs()"
   ]
  },
  {
   "cell_type": "code",
   "execution_count": null,
   "id": "091c57bb-6fd0-4c45-895d-a062ee285cb2",
   "metadata": {},
   "outputs": [],
   "source": [
    "#print(cluster.get_logs())"
   ]
  },
  {
   "cell_type": "markdown",
   "id": "497c488c-12bf-4ade-976f-65d9e0b531a6",
   "metadata": {},
   "source": [
    "### Cluster in action"
   ]
  },
  {
   "cell_type": "code",
   "execution_count": null,
   "id": "a555248c-8f0e-4a40-a9f8-cb2474ede2b7",
   "metadata": {},
   "outputs": [],
   "source": [
    "import dask.array as da\n",
    "\n",
    "a_da = da.ones(10, chunks=5)\n",
    "a_da"
   ]
  },
  {
   "cell_type": "code",
   "execution_count": null,
   "id": "8883fef6-8654-46b4-b1d3-bb722b76d92e",
   "metadata": {},
   "outputs": [],
   "source": [
    "a_da_sum = a_da.sum()\n",
    "a_da_sum"
   ]
  },
  {
   "cell_type": "code",
   "execution_count": null,
   "id": "f7252d02-f328-4806-8c03-29d0f224bb13",
   "metadata": {},
   "outputs": [],
   "source": [
    "a_da_sum.compute()"
   ]
  },
  {
   "cell_type": "code",
   "execution_count": null,
   "id": "a5479f37-80bf-44ef-a786-a816518ae067",
   "metadata": {},
   "outputs": [],
   "source": [
    "xd = da.random.normal(10, 0.1, size=(40_000, 40_000), chunks=(3000, 3000))\n",
    "xd"
   ]
  },
  {
   "cell_type": "code",
   "execution_count": null,
   "id": "a6c207eb-78ff-4392-8f43-bc34033acd7f",
   "metadata": {},
   "outputs": [],
   "source": [
    "%%time\n",
    "xd = da.random.normal(10, 0.1, size=(30_000, 30_000), chunks=(3000, 3000))\n",
    "yd = xd.mean(axis=0)\n",
    "yd.compute()"
   ]
  },
  {
   "cell_type": "markdown",
   "id": "f9eb0e94-27d0-43fd-86be-1d60afbc8b03",
   "metadata": {},
   "source": [
    "Let's try to point the cluster to data on S3"
   ]
  },
  {
   "cell_type": "code",
   "execution_count": null,
   "id": "6d689d39-b4a8-447c-ae69-2054a0c2af15",
   "metadata": {},
   "outputs": [],
   "source": [
    "import dask.dataframe as dd\n",
    "\n",
    "# Read all CSV files from the root of the bucket\n",
    "ddf = dd.read_csv(\"s3://dask-input-bucket/*.csv\", \n",
    "                  dtype={\"TailNum\": str, \"CRSElapsedTime\": float, \"Cancelled\": bool},\n",
    "                  blocksize=\"25MB\" )\n",
    "\n",
    "ddf"
   ]
  },
  {
   "cell_type": "code",
   "execution_count": null,
   "id": "876119bf-8c02-437a-9be4-689ae067b29c",
   "metadata": {},
   "outputs": [],
   "source": [
    "ddf.head()"
   ]
  },
  {
   "cell_type": "code",
   "execution_count": null,
   "id": "197ab617-1e01-4d52-8d9f-f44f636fb8f8",
   "metadata": {},
   "outputs": [],
   "source": [
    "%%time\n",
    "result = ddf.DepDelay.max()\n",
    "result.compute()"
   ]
  },
  {
   "cell_type": "code",
   "execution_count": null,
   "id": "456f7da3-6ea4-4713-9c87-a0c6765bc5ef",
   "metadata": {},
   "outputs": [],
   "source": [
    "client.close()"
   ]
  },
  {
   "cell_type": "code",
   "execution_count": null,
   "id": "18beb065-6c8d-47ad-89de-b34c972386f3",
   "metadata": {},
   "outputs": [],
   "source": [
    "cluster.close()"
   ]
  },
  {
   "cell_type": "markdown",
   "id": "2322e48c-23e9-48a1-9207-4242abe8dcc5",
   "metadata": {},
   "source": [
    "## Create cluster using containers locally\n",
    "\n",
    "First we try to create a docker images that contains all dependencies and that works locally - **in progress**"
   ]
  },
  {
   "cell_type": "markdown",
   "id": "7a87246a-3c38-4494-b24e-aa6276fb2c69",
   "metadata": {},
   "source": [
    "create a requirements file that matches the dependencies on local machine"
   ]
  },
  {
   "cell_type": "code",
   "execution_count": null,
   "id": "ede4f99c-64a2-4141-a9b6-9c1331f589b8",
   "metadata": {},
   "outputs": [],
   "source": [
    "%%writefile ./docker/requirements.txt\n",
    "pandas==2.2.3\n",
    "numpy==2.1.0\n",
    "dask[complete]==2024.9.1\n",
    "dask-cloudprovider==2024.9.0\n",
    "s3fs==2024.9.0\n",
    "dask-expr==1.1.15\n",
    "awscli\n",
    "jupyter"
   ]
  },
  {
   "cell_type": "markdown",
   "id": "abe55e95-325b-49db-940d-7251deaa2868",
   "metadata": {},
   "source": [
    "Create a simple Dockerfile"
   ]
  },
  {
   "cell_type": "code",
   "execution_count": null,
   "id": "6626309f-b75b-4970-b981-00dc8bb305e9",
   "metadata": {},
   "outputs": [],
   "source": [
    "%%writefile ./docker/Dockerfile\n",
    "FROM python:3.10.12-slim\n",
    "\n",
    "WORKDIR app\n",
    "COPY ./docker/requirements.txt .\n",
    "\n",
    "RUN pip3 install --upgrade pip\n",
    "\n",
    "RUN pip3 install -r requirements.txt\n",
    "\n",
    "EXPOSE 8786 8787 30000-65535\n",
    "\n",
    "CMD [\"dask\", \"scheduler\", \"--host\", \"0.0.0.0\"]\n",
    "#CMD [\"dask\", \"scheduler\"]"
   ]
  },
  {
   "cell_type": "markdown",
   "id": "a81d6617-88cb-41b9-88df-2055ff4d1284",
   "metadata": {},
   "source": [
    "build the image and give it the tag `test-dask-image`\n",
    "\n",
    "**remark** - building this image takes more than 15 minutes"
   ]
  },
  {
   "cell_type": "code",
   "execution_count": null,
   "id": "9d75512b-bb5c-438a-ab28-41f6432232a5",
   "metadata": {},
   "outputs": [],
   "source": [
    "!docker build . -t dask-cluster-image -f ./docker/Dockerfile"
   ]
  },
  {
   "cell_type": "markdown",
   "id": "d585fe03-3d84-43fa-9e19-68e86797831d",
   "metadata": {},
   "source": [
    "when running the container we want to test expose several ports and use the host network"
   ]
  },
  {
   "cell_type": "markdown",
   "id": "b3ed301a-7eef-4404-a6d1-681f6f849e81",
   "metadata": {},
   "source": [
    "#### Create a network\n",
    "\n",
    "We will have create 3 containers that need to communicate these need a network to share communcation"
   ]
  },
  {
   "cell_type": "code",
   "execution_count": null,
   "id": "bebbc2d8-a51a-4d9b-8e1e-b81f0be4fbea",
   "metadata": {},
   "outputs": [],
   "source": [
    "!docker network create dask-net"
   ]
  },
  {
   "cell_type": "code",
   "execution_count": null,
   "id": "610de541-800a-4a46-854a-9b0ecd1ced25",
   "metadata": {},
   "outputs": [],
   "source": [
    "!docker network ls"
   ]
  },
  {
   "cell_type": "markdown",
   "id": "a1b5f55b-6a1f-4796-8ac5-880d245b634c",
   "metadata": {},
   "source": [
    "#### Case 1 - expose ports\n",
    "\n",
    "Below we create the scheduler container with pors 8786-8787 open en connect to the dask-net network."
   ]
  },
  {
   "cell_type": "code",
   "execution_count": null,
   "id": "03d7a4f1-2386-4dec-8617-c4e1d5e85c30",
   "metadata": {},
   "outputs": [],
   "source": [
    "!docker run -d --rm --name dask-scheduler --network dask-net -p 8786:8786 -p 8787:8787 dask-image"
   ]
  },
  {
   "cell_type": "code",
   "execution_count": null,
   "id": "c14065ac-01a4-47f5-bfce-b4e6e84aa955",
   "metadata": {},
   "outputs": [],
   "source": [
    "!docker ps"
   ]
  },
  {
   "cell_type": "markdown",
   "id": "8c5dfc67-f1af-4c4b-b77a-f7fae3c76db5",
   "metadata": {},
   "source": [
    "check the logs that the service has started"
   ]
  },
  {
   "cell_type": "code",
   "execution_count": null,
   "id": "7d551d52-9f15-4759-af50-46b225e0ed6c",
   "metadata": {},
   "outputs": [],
   "source": [
    "!docker logs dask-scheduler"
   ]
  },
  {
   "cell_type": "markdown",
   "id": "d3e847a0-8dad-4d93-9077-15388ea0bf70",
   "metadata": {},
   "source": [
    "now create dask-worker-1"
   ]
  },
  {
   "cell_type": "code",
   "execution_count": null,
   "id": "7f893b72-4522-450c-9e0c-7bc159c737fd",
   "metadata": {},
   "outputs": [],
   "source": [
    "!docker run -d --rm --name dask-worker-1 --network dask-net dask-image dask-worker tcp://dask-scheduler:8786"
   ]
  },
  {
   "cell_type": "code",
   "execution_count": null,
   "id": "1a759cb3-b299-412d-a186-5bc50e1b6c6b",
   "metadata": {},
   "outputs": [],
   "source": [
    "!docker ps"
   ]
  },
  {
   "cell_type": "code",
   "execution_count": null,
   "id": "16d0883d-1d5d-495e-a35e-69ae199cbbc6",
   "metadata": {},
   "outputs": [],
   "source": [
    "!docker logs dask-worker-1"
   ]
  },
  {
   "cell_type": "markdown",
   "id": "e7cd3515-c58b-4779-b5e9-f9f3581bb5d4",
   "metadata": {},
   "source": [
    "create a second worker"
   ]
  },
  {
   "cell_type": "code",
   "execution_count": null,
   "id": "ac896d5a-0c9d-4984-96bb-8bb99750fb79",
   "metadata": {},
   "outputs": [],
   "source": [
    "!docker run -d --rm --name dask-worker-2 --network dask-net dask-image dask-worker tcp://dask-scheduler:8786"
   ]
  },
  {
   "cell_type": "code",
   "execution_count": null,
   "id": "240ef01f-c7fc-4766-8fc3-88dd157d05ec",
   "metadata": {},
   "outputs": [],
   "source": [
    "!docker ps"
   ]
  },
  {
   "cell_type": "code",
   "execution_count": null,
   "id": "2aad556c-2a9e-4005-ad19-c3da54756edf",
   "metadata": {},
   "outputs": [],
   "source": [
    "!docker logs dask-worker-2"
   ]
  },
  {
   "cell_type": "code",
   "execution_count": null,
   "id": "bb025d63-21c2-43c4-a210-fad81ce7f58d",
   "metadata": {},
   "outputs": [],
   "source": [
    "from dask.distributed import Client\n",
    "\n",
    "client = Client(\"tcp://localhost:8786\")\n",
    "\n",
    "client"
   ]
  },
  {
   "cell_type": "code",
   "execution_count": null,
   "id": "915ba396-f573-4f30-a4d5-002ad0a29bd4",
   "metadata": {},
   "outputs": [],
   "source": [
    "%%time\n",
    "import dask.array as da\n",
    "\n",
    "# Create a Dask array and perform some computations\n",
    "array = da.random.random((30000, 30000), chunks=(1000, 1000))\n",
    "result = array.mean().compute()\n",
    "\n",
    "print(result)"
   ]
  },
  {
   "cell_type": "markdown",
   "id": "c9f7fdbd-66e1-45b1-be0e-817bdab87bf0",
   "metadata": {},
   "source": [
    "#### clean up!"
   ]
  },
  {
   "cell_type": "code",
   "execution_count": null,
   "id": "fc95b73c-572c-4cd7-8d4c-52a131e5c124",
   "metadata": {},
   "outputs": [],
   "source": [
    "client.close()\n",
    "\n",
    "# docker clean up\n",
    "!docker stop dask-scheduler\n",
    "!docker stop dask-worker-1\n",
    "!docker stop dask-worker-2\n",
    "!docker network rm dask-net"
   ]
  },
  {
   "cell_type": "markdown",
   "id": "ff7b2e3b-5c8f-454d-ae78-0a1ac48bff87",
   "metadata": {},
   "source": [
    "This all works !!!!"
   ]
  },
  {
   "cell_type": "markdown",
   "id": "675bdee1-cee1-467d-9098-a199a85795c2",
   "metadata": {},
   "source": [
    "## Create a dask cluster on EC2 instances\n",
    "\n",
    "### Priliminary work\n",
    "\n",
    "- Create IAM role (see at the top)\n",
    "- Creat USER (see at the top)\n",
    "- Create a key pair (see at the top)\n",
    "- Create an Amazon ECR Repository\n",
    "    - Navigate to Amazon ECR in the AWS Management Console.\n",
    "    - Click Create Repository.\n",
    "    - Name your repository, e.g., `dask-cluster-image`.\n",
    "    - Choose other settings as needed, then click Create Repository."
   ]
  },
  {
   "cell_type": "markdown",
   "id": "db86513d-51e6-47d5-a583-c26ea830222e",
   "metadata": {},
   "source": [
    "The below commands are provided when you select the radio button of the repository and then click `view push commands`"
   ]
  },
  {
   "cell_type": "code",
   "execution_count": null,
   "id": "77a92ead-6ed6-4d54-86c1-e212e79a48c0",
   "metadata": {},
   "outputs": [],
   "source": [
    "!aws ecr get-login-password --region us-east-1 | docker login --username AWS --password-stdin 654654225119.dkr.ecr.us-east-1.amazonaws.com"
   ]
  },
  {
   "cell_type": "code",
   "execution_count": null,
   "id": "a6dc5279-ab84-4be7-9a2f-b9263a464745",
   "metadata": {},
   "outputs": [],
   "source": [
    "!docker tag dask-cluster-image:latest 654654225119.dkr.ecr.us-east-1.amazonaws.com/dask-cluster-image:latest"
   ]
  },
  {
   "cell_type": "code",
   "execution_count": null,
   "id": "3744d163-eaba-4d02-9a1c-2a4c7119c05a",
   "metadata": {},
   "outputs": [],
   "source": [
    "!docker push 654654225119.dkr.ecr.us-east-1.amazonaws.com/dask-cluster-image:latest"
   ]
  },
  {
   "cell_type": "markdown",
   "id": "cc25c64e-db26-47dc-b9fb-05f2308099c2",
   "metadata": {},
   "source": [
    "start 2 EC2 instances and use the user script below\n",
    "\n",
    "**remark** - change the last command to match the sandbox account"
   ]
  },
  {
   "cell_type": "raw",
   "id": "cd72b077-cadb-40cc-8678-deb3ea9971e1",
   "metadata": {},
   "source": [
    "#!/bin/bash\n",
    "sudo apt update\n",
    "sudo apt install -y docker.io\n",
    "sudo systemctl start docker\n",
    "sudo systemctl enable docker\n",
    "\n",
    "# Install unzip to handle AWS CLI zip download\n",
    "sudo apt install unzip -y\n",
    "\n",
    "# Install AWS CLI (version 2)\n",
    "curl \"https://awscli.amazonaws.com/awscli-exe-linux-x86_64.zip\" -o \"awscliv2.zip\"\n",
    "unzip awscliv2.zip\n",
    "sudo ./aws/install\n",
    "\n",
    "aws ecr get-login-password --region us-east-1 | docker login --username AWS --password-stdin 063151788650.dkr.ecr.us-east-1.amazonaws.com"
   ]
  },
  {
   "cell_type": "markdown",
   "id": "133b1b41-831d-4c99-99dd-1d22c8ba5132",
   "metadata": {},
   "source": [
    "make sure you link your `dask-keys` and the `dask-ec2-role` that you created earlier. "
   ]
  },
  {
   "cell_type": "markdown",
   "id": "63bcfc7d-8f28-49af-93d4-57d93ebf4c72",
   "metadata": {},
   "source": [
    "while the instances are created open ports on the security group"
   ]
  },
  {
   "attachments": {
    "f8ae9183-61ee-41f0-ab9e-9528b94d2890.png": {
     "image/png": "[encoded data removed]"
    }
   },
   "cell_type": "markdown",
   "id": "21bb1285-f5d2-4a41-9ab0-47c82e486a1b",
   "metadata": {},
   "source": [
    "![image.png](attachment:f8ae9183-61ee-41f0-ab9e-9528b94d2890.png)"
   ]
  },
  {
   "cell_type": "markdown",
   "id": "d3202f02-124a-45ee-9c83-6646124ecb85",
   "metadata": {},
   "source": [
    "On all instances pull down the image"
   ]
  },
  {
   "cell_type": "raw",
   "id": "10eef58f-780c-4efe-aa17-7ff23f4e571b",
   "metadata": {},
   "source": [
    "docker pull 767397975279.dkr.ecr.us-east-1.amazonaws.com/dask-cluster-image:latest"
   ]
  },
  {
   "cell_type": "markdown",
   "id": "dfa5c9df-7271-4830-bfac-ee215307703a",
   "metadata": {},
   "source": [
    "on scheduler"
   ]
  },
  {
   "cell_type": "raw",
   "id": "73040d6e-8b44-4f76-a46e-62e4b3935ffa",
   "metadata": {},
   "source": [
    "docker run -d --rm --name dask-scheduler -p 8786:8786 -p 8787:8787 654654225119.dkr.ecr.us-east-1.amazonaws.com/dask-cluster-image:latest"
   ]
  },
  {
   "cell_type": "markdown",
   "id": "ac0023e6-12e6-4140-a7e9-774217244ce2",
   "metadata": {},
   "source": [
    "on worker - please note we use `--network host` such that all ports are open"
   ]
  },
  {
   "cell_type": "markdown",
   "id": "2d46f20b-c9c9-4917-a647-fdb68e778c94",
   "metadata": {},
   "source": [
    "you need to adjust the `<accountnr>.dkr` part and the internal address in tcp"
   ]
  },
  {
   "cell_type": "raw",
   "id": "eacd7040-9fcd-480c-97c0-9975ca444d57",
   "metadata": {},
   "source": [
    "docker run -d --rm --name dask-worker --network host 654654225119.dkr.ecr.us-east-1.amazonaws.com/dask-cluster-image:latest dask-worker tcp://172.31.84.78:8786"
   ]
  },
  {
   "cell_type": "markdown",
   "id": "8ad5da36-3fc6-4581-8d08-3ba22a2a1d6f",
   "metadata": {},
   "source": [
    "under construction below does not work "
   ]
  },
  {
   "cell_type": "raw",
   "id": "3cb3061c-e06e-48f4-8133-cd71ca4f3416",
   "metadata": {},
   "source": [
    "docker run -d --rm --name dask-worker -p 30000-30001:30000-30001 -p 8786 -p 8000 654654225119.dkr.ecr.us-east-1.amazonaws.com/dask-cluster-image:latest dask-worker --worker-port=30000 --nanny-port=30001 --dashboard-address 30002 tcp://172.31.84.78:8786"
   ]
  },
  {
   "cell_type": "markdown",
   "id": "c00bc811-4cd0-4665-8b52-93e1e966a48d",
   "metadata": {},
   "source": [
    "- /var/log/cloud-init.log\n",
    "- /var/log/cloud-init-output.log"
   ]
  },
  {
   "cell_type": "code",
   "execution_count": 1,
   "id": "8ca473dd-285d-4972-8f1a-cf1b3159300e",
   "metadata": {},
   "outputs": [
    {
     "data": {
      "text/html": [
       "<div>\n",
       "    <div style=\"width: 24px; height: 24px; background-color: #e1e1e1; border: 3px solid #9D9D9D; border-radius: 5px; position: absolute;\"> </div>\n",
       "    <div style=\"margin-left: 48px;\">\n",
       "        <h3 style=\"margin-bottom: 0px;\">Client</h3>\n",
       "        <p style=\"color: #9D9D9D; margin-bottom: 0px;\">Client-059a2630-8fd2-11ef-a3ec-8c8d28f5c58e</p>\n",
       "        <table style=\"width: 100%; text-align: left;\">\n",
       "\n",
       "        <tr>\n",
       "        \n",
       "            <td style=\"text-align: left;\"><strong>Connection method:</strong> Direct</td>\n",
       "            <td style=\"text-align: left;\"></td>\n",
       "        \n",
       "        </tr>\n",
       "\n",
       "        \n",
       "            <tr>\n",
       "                <td style=\"text-align: left;\">\n",
       "                    <strong>Dashboard: </strong> <a href=\"http://44.206.236.130:8787/status\" target=\"_blank\">http://44.206.236.130:8787/status</a>\n",
       "                </td>\n",
       "                <td style=\"text-align: left;\"></td>\n",
       "            </tr>\n",
       "        \n",
       "\n",
       "        </table>\n",
       "\n",
       "        \n",
       "\n",
       "        \n",
       "            <details>\n",
       "            <summary style=\"margin-bottom: 20px;\"><h3 style=\"display: inline;\">Scheduler Info</h3></summary>\n",
       "            <div style=\"\">\n",
       "    <div>\n",
       "        <div style=\"width: 24px; height: 24px; background-color: #FFF7E5; border: 3px solid #FF6132; border-radius: 5px; position: absolute;\"> </div>\n",
       "        <div style=\"margin-left: 48px;\">\n",
       "            <h3 style=\"margin-bottom: 0px;\">Scheduler</h3>\n",
       "            <p style=\"color: #9D9D9D; margin-bottom: 0px;\">Scheduler-8bbb3342-fbd4-44c4-bf18-5072f6430d96</p>\n",
       "            <table style=\"width: 100%; text-align: left;\">\n",
       "                <tr>\n",
       "                    <td style=\"text-align: left;\">\n",
       "                        <strong>Comm:</strong> tcp://172.17.0.2:8786\n",
       "                    </td>\n",
       "                    <td style=\"text-align: left;\">\n",
       "                        <strong>Workers:</strong> 1\n",
       "                    </td>\n",
       "                </tr>\n",
       "                <tr>\n",
       "                    <td style=\"text-align: left;\">\n",
       "                        <strong>Dashboard:</strong> <a href=\"http://172.17.0.2:8787/status\" target=\"_blank\">http://172.17.0.2:8787/status</a>\n",
       "                    </td>\n",
       "                    <td style=\"text-align: left;\">\n",
       "                        <strong>Total threads:</strong> 2\n",
       "                    </td>\n",
       "                </tr>\n",
       "                <tr>\n",
       "                    <td style=\"text-align: left;\">\n",
       "                        <strong>Started:</strong> 17 minutes ago\n",
       "                    </td>\n",
       "                    <td style=\"text-align: left;\">\n",
       "                        <strong>Total memory:</strong> 3.82 GiB\n",
       "                    </td>\n",
       "                </tr>\n",
       "            </table>\n",
       "        </div>\n",
       "    </div>\n",
       "\n",
       "    <details style=\"margin-left: 48px;\">\n",
       "        <summary style=\"margin-bottom: 20px;\">\n",
       "            <h3 style=\"display: inline;\">Workers</h3>\n",
       "        </summary>\n",
       "\n",
       "        \n",
       "        <div style=\"margin-bottom: 20px;\">\n",
       "            <div style=\"width: 24px; height: 24px; background-color: #DBF5FF; border: 3px solid #4CC9FF; border-radius: 5px; position: absolute;\"> </div>\n",
       "            <div style=\"margin-left: 48px;\">\n",
       "            <details>\n",
       "                <summary>\n",
       "                    <h4 style=\"margin-bottom: 0px; display: inline;\">Worker: tcp://172.17.0.2:30000</h4>\n",
       "                </summary>\n",
       "                <table style=\"width: 100%; text-align: left;\">\n",
       "                    <tr>\n",
       "                        <td style=\"text-align: left;\">\n",
       "                            <strong>Comm: </strong> tcp://172.17.0.2:30000\n",
       "                        </td>\n",
       "                        <td style=\"text-align: left;\">\n",
       "                            <strong>Total threads: </strong> 2\n",
       "                        </td>\n",
       "                    </tr>\n",
       "                    <tr>\n",
       "                        <td style=\"text-align: left;\">\n",
       "                            <strong>Dashboard: </strong> <a href=\"http://172.17.0.2:30002/status\" target=\"_blank\">http://172.17.0.2:30002/status</a>\n",
       "                        </td>\n",
       "                        <td style=\"text-align: left;\">\n",
       "                            <strong>Memory: </strong> 3.82 GiB\n",
       "                        </td>\n",
       "                    </tr>\n",
       "                    <tr>\n",
       "                        <td style=\"text-align: left;\">\n",
       "                            <strong>Nanny: </strong> tcp://172.17.0.2:30001\n",
       "                        </td>\n",
       "                        <td style=\"text-align: left;\"></td>\n",
       "                    </tr>\n",
       "                    <tr>\n",
       "                        <td colspan=\"2\" style=\"text-align: left;\">\n",
       "                            <strong>Local directory: </strong> /tmp/dask-scratch-space/worker-2a3et4sw\n",
       "                        </td>\n",
       "                    </tr>\n",
       "\n",
       "                    \n",
       "\n",
       "                    \n",
       "                    <tr>\n",
       "                        <td style=\"text-align: left;\">\n",
       "                            <strong>Tasks executing: </strong> \n",
       "                        </td>\n",
       "                        <td style=\"text-align: left;\">\n",
       "                            <strong>Tasks in memory: </strong> \n",
       "                        </td>\n",
       "                    </tr>\n",
       "                    <tr>\n",
       "                        <td style=\"text-align: left;\">\n",
       "                            <strong>Tasks ready: </strong> \n",
       "                        </td>\n",
       "                        <td style=\"text-align: left;\">\n",
       "                            <strong>Tasks in flight: </strong>\n",
       "                        </td>\n",
       "                    </tr>\n",
       "                    <tr>\n",
       "                        <td style=\"text-align: left;\">\n",
       "                            <strong>CPU usage:</strong> 2.0%\n",
       "                        </td>\n",
       "                        <td style=\"text-align: left;\">\n",
       "                            <strong>Last seen: </strong> Just now\n",
       "                        </td>\n",
       "                    </tr>\n",
       "                    <tr>\n",
       "                        <td style=\"text-align: left;\">\n",
       "                            <strong>Memory usage: </strong> 146.66 MiB\n",
       "                        </td>\n",
       "                        <td style=\"text-align: left;\">\n",
       "                            <strong>Spilled bytes: </strong> 0 B\n",
       "                        </td>\n",
       "                    </tr>\n",
       "                    <tr>\n",
       "                        <td style=\"text-align: left;\">\n",
       "                            <strong>Read bytes: </strong> 286.30768857385084 B\n",
       "                        </td>\n",
       "                        <td style=\"text-align: left;\">\n",
       "                            <strong>Write bytes: </strong> 1.44 kiB\n",
       "                        </td>\n",
       "                    </tr>\n",
       "                    \n",
       "\n",
       "                </table>\n",
       "            </details>\n",
       "            </div>\n",
       "        </div>\n",
       "        \n",
       "\n",
       "    </details>\n",
       "</div>\n",
       "            </details>\n",
       "        \n",
       "\n",
       "    </div>\n",
       "</div>"
      ],
      "text/plain": [
       "<Client: 'tcp://172.17.0.2:8786' processes=1 threads=2, memory=3.82 GiB>"
      ]
     },
     "execution_count": 1,
     "metadata": {},
     "output_type": "execute_result"
    },
    {
     "name": "stderr",
     "output_type": "stream",
     "text": [
      "2024-10-21 21:48:47,263 - distributed.client - ERROR - Failed to reconnect to scheduler after 30.00 seconds, closing client\n"
     ]
    }
   ],
   "source": [
    "from dask.distributed import Client\n",
    "\n",
    "client = Client(\"tcp://44.206.236.130:8786\")\n",
    "\n",
    "client"
   ]
  },
  {
   "cell_type": "code",
   "execution_count": 2,
   "id": "ae97da6e-b0e3-4ae9-84f8-f3d1a4fa8853",
   "metadata": {},
   "outputs": [
    {
     "name": "stderr",
     "output_type": "stream",
     "text": [
      "2024-10-21 19:30:01,738 - distributed.client - WARNING - Couldn't gather 4 keys, rescheduling (('mean_agg-aggregate-4bfb3df8d60832850726db89a5331910', 0), ('mean_agg-aggregate-4bfb3df8d60832850726db89a5331910', 1), ('mean_agg-aggregate-4bfb3df8d60832850726db89a5331910', 2), ('mean_agg-aggregate-4bfb3df8d60832850726db89a5331910', 3))\n",
      "2024-10-21 19:30:32,087 - distributed.client - WARNING - Couldn't gather 4 keys, rescheduling (('mean_agg-aggregate-4bfb3df8d60832850726db89a5331910', 0), ('mean_agg-aggregate-4bfb3df8d60832850726db89a5331910', 1), ('mean_agg-aggregate-4bfb3df8d60832850726db89a5331910', 2), ('mean_agg-aggregate-4bfb3df8d60832850726db89a5331910', 3))\n",
      "2024-10-21 19:31:02,306 - distributed.client - WARNING - Couldn't gather 4 keys, rescheduling (('mean_agg-aggregate-4bfb3df8d60832850726db89a5331910', 0), ('mean_agg-aggregate-4bfb3df8d60832850726db89a5331910', 1), ('mean_agg-aggregate-4bfb3df8d60832850726db89a5331910', 2), ('mean_agg-aggregate-4bfb3df8d60832850726db89a5331910', 3))\n"
     ]
    },
    {
     "ename": "KeyboardInterrupt",
     "evalue": "",
     "output_type": "error",
     "traceback": [
      "\u001b[1;31m---------------------------------------------------------------------------\u001b[0m",
      "\u001b[1;31mKeyboardInterrupt\u001b[0m                         Traceback (most recent call last)",
      "File \u001b[1;32m<timed exec>:5\u001b[0m\n",
      "File \u001b[1;32m~\\anaconda3\\envs\\dask-cluster\\lib\\site-packages\\dask\\base.py:372\u001b[0m, in \u001b[0;36mDaskMethodsMixin.compute\u001b[1;34m(self, **kwargs)\u001b[0m\n\u001b[0;32m    348\u001b[0m \u001b[38;5;28;01mdef\u001b[39;00m \u001b[38;5;21mcompute\u001b[39m(\u001b[38;5;28mself\u001b[39m, \u001b[38;5;241m*\u001b[39m\u001b[38;5;241m*\u001b[39mkwargs):\n\u001b[0;32m    349\u001b[0m \u001b[38;5;250m    \u001b[39m\u001b[38;5;124;03m\"\"\"Compute this dask collection\u001b[39;00m\n\u001b[0;32m    350\u001b[0m \n\u001b[0;32m    351\u001b[0m \u001b[38;5;124;03m    This turns a lazy Dask collection into its in-memory equivalent.\u001b[39;00m\n\u001b[1;32m   (...)\u001b[0m\n\u001b[0;32m    370\u001b[0m \u001b[38;5;124;03m    dask.compute\u001b[39;00m\n\u001b[0;32m    371\u001b[0m \u001b[38;5;124;03m    \"\"\"\u001b[39;00m\n\u001b[1;32m--> 372\u001b[0m     (result,) \u001b[38;5;241m=\u001b[39m compute(\u001b[38;5;28mself\u001b[39m, traverse\u001b[38;5;241m=\u001b[39m\u001b[38;5;28;01mFalse\u001b[39;00m, \u001b[38;5;241m*\u001b[39m\u001b[38;5;241m*\u001b[39mkwargs)\n\u001b[0;32m    373\u001b[0m     \u001b[38;5;28;01mreturn\u001b[39;00m result\n",
      "File \u001b[1;32m~\\anaconda3\\envs\\dask-cluster\\lib\\site-packages\\dask\\base.py:660\u001b[0m, in \u001b[0;36mcompute\u001b[1;34m(traverse, optimize_graph, scheduler, get, *args, **kwargs)\u001b[0m\n\u001b[0;32m    657\u001b[0m     postcomputes\u001b[38;5;241m.\u001b[39mappend(x\u001b[38;5;241m.\u001b[39m__dask_postcompute__())\n\u001b[0;32m    659\u001b[0m \u001b[38;5;28;01mwith\u001b[39;00m shorten_traceback():\n\u001b[1;32m--> 660\u001b[0m     results \u001b[38;5;241m=\u001b[39m schedule(dsk, keys, \u001b[38;5;241m*\u001b[39m\u001b[38;5;241m*\u001b[39mkwargs)\n\u001b[0;32m    662\u001b[0m \u001b[38;5;28;01mreturn\u001b[39;00m repack([f(r, \u001b[38;5;241m*\u001b[39ma) \u001b[38;5;28;01mfor\u001b[39;00m r, (f, a) \u001b[38;5;129;01min\u001b[39;00m \u001b[38;5;28mzip\u001b[39m(results, postcomputes)])\n",
      "File \u001b[1;32m~\\anaconda3\\envs\\dask-cluster\\lib\\threading.py:607\u001b[0m, in \u001b[0;36mEvent.wait\u001b[1;34m(self, timeout)\u001b[0m\n\u001b[0;32m    605\u001b[0m signaled \u001b[38;5;241m=\u001b[39m \u001b[38;5;28mself\u001b[39m\u001b[38;5;241m.\u001b[39m_flag\n\u001b[0;32m    606\u001b[0m \u001b[38;5;28;01mif\u001b[39;00m \u001b[38;5;129;01mnot\u001b[39;00m signaled:\n\u001b[1;32m--> 607\u001b[0m     signaled \u001b[38;5;241m=\u001b[39m \u001b[38;5;28;43mself\u001b[39;49m\u001b[38;5;241;43m.\u001b[39;49m\u001b[43m_cond\u001b[49m\u001b[38;5;241;43m.\u001b[39;49m\u001b[43mwait\u001b[49m\u001b[43m(\u001b[49m\u001b[43mtimeout\u001b[49m\u001b[43m)\u001b[49m\n\u001b[0;32m    608\u001b[0m \u001b[38;5;28;01mreturn\u001b[39;00m signaled\n",
      "File \u001b[1;32m~\\anaconda3\\envs\\dask-cluster\\lib\\threading.py:324\u001b[0m, in \u001b[0;36mCondition.wait\u001b[1;34m(self, timeout)\u001b[0m\n\u001b[0;32m    322\u001b[0m \u001b[38;5;28;01melse\u001b[39;00m:\n\u001b[0;32m    323\u001b[0m     \u001b[38;5;28;01mif\u001b[39;00m timeout \u001b[38;5;241m>\u001b[39m \u001b[38;5;241m0\u001b[39m:\n\u001b[1;32m--> 324\u001b[0m         gotit \u001b[38;5;241m=\u001b[39m \u001b[43mwaiter\u001b[49m\u001b[38;5;241;43m.\u001b[39;49m\u001b[43macquire\u001b[49m\u001b[43m(\u001b[49m\u001b[38;5;28;43;01mTrue\u001b[39;49;00m\u001b[43m,\u001b[49m\u001b[43m \u001b[49m\u001b[43mtimeout\u001b[49m\u001b[43m)\u001b[49m\n\u001b[0;32m    325\u001b[0m     \u001b[38;5;28;01melse\u001b[39;00m:\n\u001b[0;32m    326\u001b[0m         gotit \u001b[38;5;241m=\u001b[39m waiter\u001b[38;5;241m.\u001b[39macquire(\u001b[38;5;28;01mFalse\u001b[39;00m)\n",
      "\u001b[1;31mKeyboardInterrupt\u001b[0m: "
     ]
    }
   ],
   "source": [
    "%%time \n",
    "import dask.array as da\n",
    "\n",
    "xd = da.random.normal(10, 0.1, size=(10_000, 10_000), chunks=(3000, 3000))\n",
    "yd = xd.mean(axis=0)\n",
    "yd.compute()"
   ]
  },
  {
   "cell_type": "code",
   "execution_count": null,
   "id": "88a03ba7-a813-4e0a-9a96-41c9f2b2d370",
   "metadata": {},
   "outputs": [],
   "source": [
    "import dask.dataframe as dd\n",
    "\n",
    "\n",
    "# Read all CSV files from the root of the bucket\n",
    "# ddf = dd.read_csv(\"s3://dask-input-data/*.csv\", \n",
    "#                   parse_dates={\"Date\": [0, 1, 2]},\n",
    "#                   dtype={\"TailNum\": str, \"CRSElapsedTime\": float, \"Cancelled\": bool},\n",
    "#                   blocksize=\"10MB\" )\n",
    "\n",
    "# Read all CSV files from the root of the bucket\n",
    "ddf = dd.read_csv(\"s3://dask-input-data/*.csv\", \n",
    "                  dtype={\"TailNum\": str, \"CRSElapsedTime\": float, \"Cancelled\": bool},\n",
    "                  blocksize=\"25MB\" )\n",
    "\n",
    "\n",
    "ddf"
   ]
  },
  {
   "cell_type": "code",
   "execution_count": null,
   "id": "996bc367-ad68-4b62-87b5-43b46ebab271",
   "metadata": {},
   "outputs": [],
   "source": [
    "%%time\n",
    "len(ddf)"
   ]
  },
  {
   "cell_type": "code",
   "execution_count": null,
   "id": "1365ad82-229c-4fdd-83f4-69e7451cdf06",
   "metadata": {},
   "outputs": [],
   "source": [
    "%%time \n",
    "ddf[~ddf.Cancelled].groupby(\"Origin\")[\"Origin\"].count().compute()"
   ]
  },
  {
   "cell_type": "code",
   "execution_count": null,
   "id": "9b64289a-6a3a-41d1-b6a4-58767af203a3",
   "metadata": {},
   "outputs": [],
   "source": [
    "client.close()"
   ]
  },
  {
   "cell_type": "code",
   "execution_count": null,
   "id": "eae9e51f-fd1e-4114-8926-7971c2dd2c20",
   "metadata": {},
   "outputs": [],
   "source": []
  }
 ],
 "metadata": {
  "kernelspec": {
   "display_name": "Python 3 (ipykernel)",
   "language": "python",
   "name": "python3"
  },
  "language_info": {
   "codemirror_mode": {
    "name": "ipython",
    "version": 3
   },
   "file_extension": ".py",
   "mimetype": "text/x-python",
   "name": "python",
   "nbconvert_exporter": "python",
   "pygments_lexer": "ipython3",
   "version": "3.10.12"
  }
 },
 "nbformat": 4,
 "nbformat_minor": 5
}
